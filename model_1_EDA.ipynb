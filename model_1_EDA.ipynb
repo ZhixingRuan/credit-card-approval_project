{
 "cells": [
  {
   "cell_type": "markdown",
   "metadata": {},
   "source": [
    "How to determine the credit scores is a common risk control process in the financial industry. Based on the scores, the bank is able to decide whether to issue a credit card or not. It will directly affect the profit for the bank. If we are able to raise the accuracy of identifying the applicants who have the lowest risk, we can help the bank make more money and control the risk in the future.\n",
    "\n",
    "We'd like to build machine learning models to predict the credit scores for the bank.   "
   ]
  },
  {
   "cell_type": "code",
   "execution_count": 1,
   "metadata": {},
   "outputs": [],
   "source": [
    "import pandas as pd\n",
    "import numpy as np\n",
    "import matplotlib.pyplot as plt\n",
    "import seaborn as sns\n",
    "sns.set()\n",
    "\n",
    "from sklearn.preprocessing import OrdinalEncoder"
   ]
  },
  {
   "cell_type": "code",
   "execution_count": 2,
   "metadata": {},
   "outputs": [],
   "source": [
    "%load_ext autoreload\n",
    "%autoreload 2"
   ]
  },
  {
   "cell_type": "code",
   "execution_count": 3,
   "metadata": {},
   "outputs": [],
   "source": [
    "import util"
   ]
  },
  {
   "cell_type": "markdown",
   "metadata": {},
   "source": [
    "# 1. Pre-model Analysis"
   ]
  },
  {
   "cell_type": "code",
   "execution_count": 9,
   "metadata": {},
   "outputs": [],
   "source": [
    "# load data\n",
    "df1 = pd.read_csv('./data/application_record.csv')\n",
    "df2 = pd.read_csv('./data/credit_record.csv')"
   ]
  },
  {
   "cell_type": "code",
   "execution_count": 5,
   "metadata": {},
   "outputs": [
    {
     "name": "stdout",
     "output_type": "stream",
     "text": [
      "----------Information of the data----------\n",
      "Number of Rows: 438557    Number of Columns: 18\n",
      "Column names:\n",
      "Index(['ID', 'CODE_GENDER', 'FLAG_OWN_CAR', 'FLAG_OWN_REALTY', 'CNT_CHILDREN',\n",
      "       'AMT_INCOME_TOTAL', 'NAME_INCOME_TYPE', 'NAME_EDUCATION_TYPE',\n",
      "       'NAME_FAMILY_STATUS', 'NAME_HOUSING_TYPE', 'DAYS_BIRTH',\n",
      "       'DAYS_EMPLOYED', 'FLAG_MOBIL', 'FLAG_WORK_PHONE', 'FLAG_PHONE',\n",
      "       'FLAG_EMAIL', 'OCCUPATION_TYPE', 'CNT_FAM_MEMBERS'],\n",
      "      dtype='object')\n",
      "Missing value information:\n",
      "OCCUPATION_TYPE:  the number of missing values is 134203\n"
     ]
    }
   ],
   "source": [
    "util.data_info(df1)"
   ]
  },
  {
   "cell_type": "code",
   "execution_count": 6,
   "metadata": {},
   "outputs": [
    {
     "name": "stdout",
     "output_type": "stream",
     "text": [
      "----------Information of the data----------\n",
      "Number of Rows: 1048575    Number of Columns: 3\n",
      "Column names:\n",
      "Index(['ID', 'MONTHS_BALANCE', 'STATUS'], dtype='object')\n",
      "Missing value information:\n"
     ]
    }
   ],
   "source": [
    "util.data_info(df2)"
   ]
  },
  {
   "cell_type": "markdown",
   "metadata": {},
   "source": [
    "- if have time, can try to plot the distribution of each column"
   ]
  },
  {
   "cell_type": "markdown",
   "metadata": {},
   "source": [
    "# 2. Feature Engineering"
   ]
  },
  {
   "cell_type": "markdown",
   "metadata": {},
   "source": [
    "- Feature selection: 'car', 'property', 'number of a children', 'annual income', 'income category', 'education level', 'martial status', 'way of living', 'employment', 'mobile phone', 'work phone', 'phone', 'email', 'occupation', 'family size'"
   ]
  },
  {
   "cell_type": "markdown",
   "metadata": {},
   "source": [
    "## Flag type variables\n",
    "- Car: encode 'FLAG_OWN_CAR' from 'N', 'Y' to 0, 1\n",
    "- Property: encode 'FLAG_OWN_REALTY' from 'N', 'Y' to 0, 1  \n",
    "- Mobile phone: 'FLAG_MOBIL' 0, 1\n",
    "- Work phone: 'FLAG_WORK_PHONE'  0, 1\n",
    "- Phone: 'FLAG_PHONE' 0, 1\n",
    "- Email: 'FLAG_EMAIL' 0, 1"
   ]
  },
  {
   "cell_type": "code",
   "execution_count": 10,
   "metadata": {},
   "outputs": [],
   "source": [
    "ordinal = OrdinalEncoder(categories=[['N', 'Y']])\n",
    "df1['car'] = ordinal.fit_transform(df1[['FLAG_OWN_CAR']])\n",
    "df1['property'] = ordinal.fit_transform(df1[['FLAG_OWN_REALTY']])\n",
    "df1 = df1.rename(columns={'FLAG_MOBIL': 'mobile',\n",
    "                    'FLAG_WORK_PHONE': 'work_phone',\n",
    "                    'FLAG_PHONE': 'phone',\n",
    "                    'FLAG_EMAIL': 'email'})"
   ]
  },
  {
   "cell_type": "markdown",
   "metadata": {},
   "source": [
    "## Category type\n",
    "- Gender: 'CODE_GENDER'\n",
    "- Education: 'NAME_EDUCATION_TYPE'\n",
    "- Income type: 'NAME_INCOME_TYPE'\n",
    "- Housing type: 'NAME_HOUSING_TYPE'\n",
    "- Occupation type: 'OCCUPATION_TYPE'\n",
    "- Marital status: 'NAME_FAMILY_STATUS'"
   ]
  },
  {
   "cell_type": "markdown",
   "metadata": {},
   "source": [
    "- Gender: To avoid discrimination in gender, use one hot encoder. Drop one column since there are just two types. (female - male)"
   ]
  },
  {
   "cell_type": "code",
   "execution_count": 8,
   "metadata": {},
   "outputs": [
    {
     "data": {
      "text/plain": [
       "array(['M', 'F'], dtype=object)"
      ]
     },
     "execution_count": 8,
     "metadata": {},
     "output_type": "execute_result"
    }
   ],
   "source": [
    "df1['CODE_GENDER'].unique()"
   ]
  },
  {
   "cell_type": "code",
   "execution_count": 11,
   "metadata": {},
   "outputs": [],
   "source": [
    "df1 = pd.concat([df1, util.Dummy_Transformer('gender_').fit_transform(df1['CODE_GENDER'])], axis=1)\n",
    "df1 = df1.rename(columns={'gender_F': 'gender'})"
   ]
  },
  {
   "cell_type": "markdown",
   "metadata": {},
   "source": [
    "- Education: encode ['Lower secondary', 'Secondary / secondary special', 'Incomplete higher','Higher education', 'Academic degree'] to [0, 1, 2, 3, 4]"
   ]
  },
  {
   "cell_type": "code",
   "execution_count": 7,
   "metadata": {},
   "outputs": [
    {
     "data": {
      "text/plain": [
       "array(['Higher education', 'Secondary / secondary special',\n",
       "       'Incomplete higher', 'Lower secondary', 'Academic degree'],\n",
       "      dtype=object)"
      ]
     },
     "execution_count": 7,
     "metadata": {},
     "output_type": "execute_result"
    }
   ],
   "source": [
    "df1['NAME_EDUCATION_TYPE'].unique()"
   ]
  },
  {
   "cell_type": "code",
   "execution_count": 8,
   "metadata": {},
   "outputs": [],
   "source": [
    "education_ordinal = OrdinalEncoder(\n",
    "    categories=[['Lower secondary', 'Secondary / secondary special', 'Incomplete higher',\n",
    "                 'Higher education', 'Academic degree']])\n",
    "df1['education'] = education_ordinal.fit_transform(df1[['NAME_EDUCATION_TYPE']])"
   ]
  },
  {
   "cell_type": "markdown",
   "metadata": {},
   "source": [
    "- Income type: one hot encoder"
   ]
  },
  {
   "cell_type": "code",
   "execution_count": 12,
   "metadata": {},
   "outputs": [
    {
     "data": {
      "text/plain": [
       "array(['Working', 'Commercial associate', 'Pensioner', 'State servant',\n",
       "       'Student'], dtype=object)"
      ]
     },
     "execution_count": 12,
     "metadata": {},
     "output_type": "execute_result"
    }
   ],
   "source": [
    "df1['NAME_INCOME_TYPE'].unique()"
   ]
  },
  {
   "cell_type": "code",
   "execution_count": 9,
   "metadata": {},
   "outputs": [],
   "source": [
    "df1 = pd.concat([df1, util.Dummy_Transformer('income_').fit_transform(df1['NAME_INCOME_TYPE'])], axis=1)"
   ]
  },
  {
   "cell_type": "markdown",
   "metadata": {},
   "source": [
    "- Housing type: one hot encoder"
   ]
  },
  {
   "cell_type": "code",
   "execution_count": 10,
   "metadata": {},
   "outputs": [
    {
     "data": {
      "text/plain": [
       "array(['Rented apartment', 'House / apartment', 'Municipal apartment',\n",
       "       'With parents', 'Co-op apartment', 'Office apartment'],\n",
       "      dtype=object)"
      ]
     },
     "execution_count": 10,
     "metadata": {},
     "output_type": "execute_result"
    }
   ],
   "source": [
    "df1['NAME_HOUSING_TYPE'].unique()"
   ]
  },
  {
   "cell_type": "code",
   "execution_count": 11,
   "metadata": {},
   "outputs": [],
   "source": [
    "df1 = pd.concat([df1, util.Dummy_Transformer('housing_').fit_transform(df1['NAME_HOUSING_TYPE'])], axis=1)"
   ]
  },
  {
   "cell_type": "markdown",
   "metadata": {},
   "source": [
    "- Occupation type: one hot encoder"
   ]
  },
  {
   "cell_type": "code",
   "execution_count": 16,
   "metadata": {
    "scrolled": true
   },
   "outputs": [
    {
     "data": {
      "text/plain": [
       "array([nan, 'Security staff', 'Sales staff', 'Accountants', 'Laborers',\n",
       "       'Managers', 'Drivers', 'Core staff', 'High skill tech staff',\n",
       "       'Cleaning staff', 'Private service staff', 'Cooking staff',\n",
       "       'Low-skill Laborers', 'Medicine staff', 'Secretaries',\n",
       "       'Waiters/barmen staff', 'HR staff', 'Realty agents', 'IT staff'],\n",
       "      dtype=object)"
      ]
     },
     "execution_count": 16,
     "metadata": {},
     "output_type": "execute_result"
    }
   ],
   "source": [
    "df1['OCCUPATION_TYPE'].unique()"
   ]
  },
  {
   "cell_type": "code",
   "execution_count": 12,
   "metadata": {},
   "outputs": [],
   "source": [
    "# replace nan as 'others'\n",
    "df1['OCCUPATION_TYPE'].fillna('others', inplace=True)"
   ]
  },
  {
   "cell_type": "code",
   "execution_count": 13,
   "metadata": {},
   "outputs": [],
   "source": [
    "df1 = pd.concat([df1, util.Dummy_Transformer('occupation_').fit_transform(df1['OCCUPATION_TYPE'])], axis=1)"
   ]
  },
  {
   "cell_type": "markdown",
   "metadata": {},
   "source": [
    "- Marital status: one hot encoder"
   ]
  },
  {
   "cell_type": "code",
   "execution_count": 19,
   "metadata": {},
   "outputs": [
    {
     "data": {
      "text/plain": [
       "array(['Civil marriage', 'Married', 'Single / not married', 'Separated',\n",
       "       'Widow'], dtype=object)"
      ]
     },
     "execution_count": 19,
     "metadata": {},
     "output_type": "execute_result"
    }
   ],
   "source": [
    "df1['NAME_FAMILY_STATUS'].unique()"
   ]
  },
  {
   "cell_type": "code",
   "execution_count": 14,
   "metadata": {},
   "outputs": [],
   "source": [
    "df1 = pd.concat([df1, util.Dummy_Transformer('marital_').fit_transform(df1['NAME_FAMILY_STATUS'])], axis=1)"
   ]
  },
  {
   "cell_type": "markdown",
   "metadata": {},
   "source": [
    "## Numerical Variables\n",
    "- Number of children: 'CNT_CHILDREN'\n",
    "- Annual income: 'AMT_INCOME_TOTAL'\n",
    "- Birthday: 'DAYS_BIRTH'\n",
    "- Days of employment: 'DAYS_EMPLOYED'\n",
    "- Family size: 'CNT_FAM_MEMBERS'"
   ]
  },
  {
   "cell_type": "code",
   "execution_count": 15,
   "metadata": {},
   "outputs": [],
   "source": [
    "df1 = df1.rename(columns={'CNT_CHILDREN': 'num_children', 'AMT_INCOME_TOTAL': 'annual_income',\n",
    "                          'DAYS_BIRTH': 'birthday', 'DAYS_EMPLOYED': 'days_employment',\n",
    "                          'CNT_FAM_MEMBERS': 'family_size'})"
   ]
  },
  {
   "cell_type": "code",
   "execution_count": 22,
   "metadata": {
    "scrolled": true,
    "tags": []
   },
   "outputs": [
    {
     "data": {
      "text/plain": [
       "Index(['ID', 'CODE_GENDER', 'FLAG_OWN_CAR', 'FLAG_OWN_REALTY', 'num_children',\n",
       "       'annual_income', 'NAME_INCOME_TYPE', 'NAME_EDUCATION_TYPE',\n",
       "       'NAME_FAMILY_STATUS', 'NAME_HOUSING_TYPE', 'birthday',\n",
       "       'days_employment', 'mobile', 'work_phone', 'phone', 'email',\n",
       "       'OCCUPATION_TYPE', 'family_size', 'car', 'property', 'gender_F',\n",
       "       'gender_M', 'education', 'income_Commercial associate',\n",
       "       'income_Pensioner', 'income_Student', 'income_State servant',\n",
       "       'income_Working', 'housing_Municipal apartment',\n",
       "       'housing_Office apartment', 'housing_Rented apartment',\n",
       "       'housing_Co-op apartment', 'housing_House / apartment',\n",
       "       'housing_With parents', 'occupation_Laborers', 'occupation_Core staff',\n",
       "       'occupation_Realty agents', 'occupation_others',\n",
       "       'occupation_Security staff', 'occupation_Secretaries',\n",
       "       'occupation_Cleaning staff', 'occupation_Private service staff',\n",
       "       'occupation_Accountants', 'occupation_Managers', 'occupation_HR staff',\n",
       "       'occupation_Waiters/barmen staff', 'occupation_Cooking staff',\n",
       "       'occupation_High skill tech staff', 'occupation_Drivers',\n",
       "       'occupation_Sales staff', 'occupation_IT staff',\n",
       "       'occupation_Low-skill Laborers', 'occupation_Medicine staff',\n",
       "       'marital_Civil marriage', 'marital_Separated',\n",
       "       'marital_Single / not married', 'marital_Married', 'marital_Widow'],\n",
       "      dtype='object')"
      ]
     },
     "execution_count": 22,
     "metadata": {},
     "output_type": "execute_result"
    }
   ],
   "source": [
    "df1.columns"
   ]
  },
  {
   "cell_type": "markdown",
   "metadata": {},
   "source": [
    "- 'days_employment': change the positive value to 0  \n",
    "Because the positive value means the person currently unemployed."
   ]
  },
  {
   "cell_type": "code",
   "execution_count": 29,
   "metadata": {},
   "outputs": [],
   "source": [
    "df1.loc[df1.days_employment > 0, 'days_employment'] = 0"
   ]
  },
  {
   "cell_type": "markdown",
   "metadata": {},
   "source": [
    "## Feature analysis"
   ]
  },
  {
   "cell_type": "code",
   "execution_count": 31,
   "metadata": {},
   "outputs": [],
   "source": [
    "numeric_features = ['num_children', 'annual_income', 'birthday', 'days_employment', 'family_size']\n",
    "cat_ordinal_features = ['mobile', 'work_phone', 'phone', 'email', 'car', 'property', 'education']\n",
    "cat_dummy_features = ['gender',\n",
    "                      'income_Student', 'income_Pensioner', 'income_State servant',\n",
    "                      'income_Commercial associate', 'income_Working',\n",
    "                      'housing_Municipal apartment', 'housing_With parents',\n",
    "                      'housing_Office apartment', 'housing_Rented apartment',\n",
    "                      'housing_House / apartment', 'housing_Co-op apartment',\n",
    "                      'occupation_Cleaning staff', 'occupation_others',\n",
    "                      'occupation_Security staff', 'occupation_Medicine staff',\n",
    "                      'occupation_Managers', 'occupation_Sales staff',\n",
    "                      'occupation_Cooking staff', 'occupation_Core staff',\n",
    "                      'occupation_Laborers', 'occupation_Low-skill Laborers',\n",
    "                      'occupation_Waiters/barmen staff', 'occupation_IT staff',\n",
    "                      'occupation_Accountants', 'occupation_Secretaries',\n",
    "                      'occupation_High skill tech staff', 'occupation_Drivers',\n",
    "                      'occupation_Realty agents', 'occupation_Private service staff',\n",
    "                      'marital_Single / not married',\n",
    "                      'marital_Married', 'marital_Civil marriage', 'marital_Separated', 'marital_Widow']"
   ]
  },
  {
   "cell_type": "markdown",
   "metadata": {},
   "source": [
    "## Collinearity"
   ]
  },
  {
   "cell_type": "code",
   "execution_count": 32,
   "metadata": {},
   "outputs": [
    {
     "data": {
      "text/plain": [
       "<AxesSubplot:>"
      ]
     },
     "execution_count": 32,
     "metadata": {},
     "output_type": "execute_result"
    },
    {
     "data": {
      "image/png": "[encoded data removed]",
      "text/plain": [
       "<Figure size 640x480 with 2 Axes>"
      ]
     },
     "metadata": {},
     "output_type": "display_data"
    }
   ],
   "source": [
    "sns.heatmap(df1[numeric_features].corr(method='pearson'), annot=True)"
   ]
  },
  {
   "cell_type": "markdown",
   "metadata": {},
   "source": [
    "**'num_children' and 'family_size' is highly correlated, so drop 'num_children'**"
   ]
  },
  {
   "cell_type": "code",
   "execution_count": 33,
   "metadata": {},
   "outputs": [
    {
     "data": {
      "text/plain": [
       "<AxesSubplot:>"
      ]
     },
     "execution_count": 33,
     "metadata": {},
     "output_type": "execute_result"
    },
    {
     "data": {
      "image/png": "[encoded data removed]",
      "text/plain": [
       "<Figure size 640x480 with 2 Axes>"
      ]
     },
     "metadata": {},
     "output_type": "display_data"
    }
   ],
   "source": [
    "sns.heatmap(df1[cat_ordinal_features].corr(method='pearson'), annot=True)"
   ]
  },
  {
   "cell_type": "code",
   "execution_count": 26,
   "metadata": {},
   "outputs": [
    {
     "data": {
      "text/plain": [
       "array([1])"
      ]
     },
     "execution_count": 26,
     "metadata": {},
     "output_type": "execute_result"
    }
   ],
   "source": [
    "df1['mobile'].unique()"
   ]
  },
  {
   "cell_type": "markdown",
   "metadata": {},
   "source": [
    "**'mobile' just has value of 1, so drop 'mobile'**"
   ]
  },
  {
   "cell_type": "code",
   "execution_count": 34,
   "metadata": {},
   "outputs": [],
   "source": [
    "numeric_features.remove('num_children')\n",
    "cat_ordinal_features.remove('mobile')"
   ]
  },
  {
   "cell_type": "code",
   "execution_count": 35,
   "metadata": {},
   "outputs": [],
   "source": [
    "features = numeric_features + cat_ordinal_features + cat_dummy_features\n",
    "#df1[features].to_csv('./data/df_features.csv')"
   ]
  },
  {
   "cell_type": "markdown",
   "metadata": {},
   "source": [
    "# 3. Target"
   ]
  },
  {
   "cell_type": "markdown",
   "metadata": {},
   "source": [
    "Vintage analysis is a widely used method for managing credit risk. It's a method for evaluating the credit quality.  \n",
    "Choose users who **overdue for more than 60 days as the risk users** -- Target, labeled as 1."
   ]
  },
  {
   "cell_type": "markdown",
   "metadata": {},
   "source": [
    "0: 1-29 days past due  \n",
    "1: 30-59 days past due  \n",
    "2: 60-89 days overdue  \n",
    "3: 90-119 days overdue  \n",
    "4: 120-149 days overdue  \n",
    "5: Overdue or bad debts, paid-offs for more than 150 days  \n",
    "C: paid off that month  \n",
    "X: No loan for the month"
   ]
  },
  {
   "cell_type": "code",
   "execution_count": 36,
   "metadata": {},
   "outputs": [],
   "source": [
    "df2['status_label'] = None\n",
    "df2.loc[df2.STATUS=='2', ['status_label']] = 1\n",
    "df2.loc[df2.STATUS=='3', ['status_label']] = 1\n",
    "df2.loc[df2.STATUS=='4', ['status_label']] = 1\n",
    "df2.loc[df2.STATUS=='5', ['status_label']] = 1"
   ]
  },
  {
   "cell_type": "code",
   "execution_count": 37,
   "metadata": {},
   "outputs": [],
   "source": [
    "#credit = pd.DataFrame({'start_month': df2.groupby('ID').MONTHS_BALANCE.min()})\n",
    "#credit['end_month'] = df2.groupby('ID').MONTHS_BALANCE.max()\n",
    "#credit['window'] = credit['end_month'] - credit['start_month']\n",
    "\n",
    "df2_label = df2.groupby('ID').count()\n",
    "df2_label['ID'] = df2_label.index\n",
    "df2_label['window'] = df2.groupby('ID').MONTHS_BALANCE.max() - df2.groupby('ID').MONTHS_BALANCE.min()\n",
    "df2_label.reset_index(drop=True, inplace=True)\n",
    "df2_label.loc[df2_label.status_label>0, ['label']] = 1\n",
    "df2_label.loc[df2_label.status_label==0, ['label']] = 0"
   ]
  },
  {
   "cell_type": "code",
   "execution_count": 38,
   "metadata": {},
   "outputs": [
    {
     "data": {
      "text/plain": [
       "Text(0.5, 1.0, 'Target distribution')"
      ]
     },
     "execution_count": 38,
     "metadata": {},
     "output_type": "execute_result"
    },
    {
     "data": {
      "image/png": "[encoded data removed]",
      "text/plain": [
       "<Figure size 640x480 with 1 Axes>"
      ]
     },
     "metadata": {},
     "output_type": "display_data"
    }
   ],
   "source": [
    "plt.pie(df2_label['label'].value_counts(),\n",
    "        labels = df2_label['label'].value_counts().index, autopct='%1.1f%%')\n",
    "plt.legend()\n",
    "plt.title('Target distribution')"
   ]
  },
  {
   "cell_type": "code",
   "execution_count": 32,
   "metadata": {},
   "outputs": [
    {
     "data": {
      "text/html": [
       "<div>\n",
       "<style scoped>\n",
       "    .dataframe tbody tr th:only-of-type {\n",
       "        vertical-align: middle;\n",
       "    }\n",
       "\n",
       "    .dataframe tbody tr th {\n",
       "        vertical-align: top;\n",
       "    }\n",
       "\n",
       "    .dataframe thead th {\n",
       "        text-align: right;\n",
       "    }\n",
       "</style>\n",
       "<table border=\"1\" class=\"dataframe\">\n",
       "  <thead>\n",
       "    <tr style=\"text-align: right;\">\n",
       "      <th></th>\n",
       "      <th>MONTHS_BALANCE</th>\n",
       "      <th>STATUS</th>\n",
       "      <th>status_label</th>\n",
       "      <th>ID</th>\n",
       "      <th>window</th>\n",
       "      <th>label</th>\n",
       "    </tr>\n",
       "  </thead>\n",
       "  <tbody>\n",
       "    <tr>\n",
       "      <th>0</th>\n",
       "      <td>4</td>\n",
       "      <td>4</td>\n",
       "      <td>0</td>\n",
       "      <td>5001711</td>\n",
       "      <td>3</td>\n",
       "      <td>0.0</td>\n",
       "    </tr>\n",
       "    <tr>\n",
       "      <th>1</th>\n",
       "      <td>19</td>\n",
       "      <td>19</td>\n",
       "      <td>0</td>\n",
       "      <td>5001712</td>\n",
       "      <td>18</td>\n",
       "      <td>0.0</td>\n",
       "    </tr>\n",
       "    <tr>\n",
       "      <th>2</th>\n",
       "      <td>22</td>\n",
       "      <td>22</td>\n",
       "      <td>0</td>\n",
       "      <td>5001713</td>\n",
       "      <td>21</td>\n",
       "      <td>0.0</td>\n",
       "    </tr>\n",
       "    <tr>\n",
       "      <th>3</th>\n",
       "      <td>15</td>\n",
       "      <td>15</td>\n",
       "      <td>0</td>\n",
       "      <td>5001714</td>\n",
       "      <td>14</td>\n",
       "      <td>0.0</td>\n",
       "    </tr>\n",
       "    <tr>\n",
       "      <th>4</th>\n",
       "      <td>60</td>\n",
       "      <td>60</td>\n",
       "      <td>0</td>\n",
       "      <td>5001715</td>\n",
       "      <td>59</td>\n",
       "      <td>0.0</td>\n",
       "    </tr>\n",
       "    <tr>\n",
       "      <th>...</th>\n",
       "      <td>...</td>\n",
       "      <td>...</td>\n",
       "      <td>...</td>\n",
       "      <td>...</td>\n",
       "      <td>...</td>\n",
       "      <td>...</td>\n",
       "    </tr>\n",
       "    <tr>\n",
       "      <th>45980</th>\n",
       "      <td>18</td>\n",
       "      <td>18</td>\n",
       "      <td>0</td>\n",
       "      <td>5150482</td>\n",
       "      <td>17</td>\n",
       "      <td>0.0</td>\n",
       "    </tr>\n",
       "    <tr>\n",
       "      <th>45981</th>\n",
       "      <td>18</td>\n",
       "      <td>18</td>\n",
       "      <td>0</td>\n",
       "      <td>5150483</td>\n",
       "      <td>17</td>\n",
       "      <td>0.0</td>\n",
       "    </tr>\n",
       "    <tr>\n",
       "      <th>45982</th>\n",
       "      <td>13</td>\n",
       "      <td>13</td>\n",
       "      <td>0</td>\n",
       "      <td>5150484</td>\n",
       "      <td>12</td>\n",
       "      <td>0.0</td>\n",
       "    </tr>\n",
       "    <tr>\n",
       "      <th>45983</th>\n",
       "      <td>2</td>\n",
       "      <td>2</td>\n",
       "      <td>0</td>\n",
       "      <td>5150485</td>\n",
       "      <td>1</td>\n",
       "      <td>0.0</td>\n",
       "    </tr>\n",
       "    <tr>\n",
       "      <th>45984</th>\n",
       "      <td>30</td>\n",
       "      <td>30</td>\n",
       "      <td>0</td>\n",
       "      <td>5150487</td>\n",
       "      <td>29</td>\n",
       "      <td>0.0</td>\n",
       "    </tr>\n",
       "  </tbody>\n",
       "</table>\n",
       "<p>45985 rows × 6 columns</p>\n",
       "</div>"
      ],
      "text/plain": [
       "       MONTHS_BALANCE  STATUS  status_label       ID  window  label\n",
       "0                   4       4             0  5001711       3    0.0\n",
       "1                  19      19             0  5001712      18    0.0\n",
       "2                  22      22             0  5001713      21    0.0\n",
       "3                  15      15             0  5001714      14    0.0\n",
       "4                  60      60             0  5001715      59    0.0\n",
       "...               ...     ...           ...      ...     ...    ...\n",
       "45980              18      18             0  5150482      17    0.0\n",
       "45981              18      18             0  5150483      17    0.0\n",
       "45982              13      13             0  5150484      12    0.0\n",
       "45983               2       2             0  5150485       1    0.0\n",
       "45984              30      30             0  5150487      29    0.0\n",
       "\n",
       "[45985 rows x 6 columns]"
      ]
     },
     "execution_count": 32,
     "metadata": {},
     "output_type": "execute_result"
    }
   ],
   "source": [
    "df2_label"
   ]
  },
  {
   "cell_type": "markdown",
   "metadata": {},
   "source": [
    "# 4. Combine features and target"
   ]
  },
  {
   "cell_type": "code",
   "execution_count": 39,
   "metadata": {},
   "outputs": [],
   "source": [
    "df = pd.merge(df1, df2_label, how='left', on='ID')"
   ]
  },
  {
   "cell_type": "code",
   "execution_count": 40,
   "metadata": {},
   "outputs": [],
   "source": [
    "df = df[features + ['label'] + ['ID'] + ['window']]"
   ]
  },
  {
   "cell_type": "code",
   "execution_count": 41,
   "metadata": {},
   "outputs": [],
   "source": [
    "# save the new data\n",
    "df.to_csv('./data/data_clean.csv', index=False)"
   ]
  },
  {
   "cell_type": "code",
   "execution_count": null,
   "metadata": {},
   "outputs": [],
   "source": []
  }
 ],
 "metadata": {
  "kernelspec": {
   "display_name": "Python 3",
   "language": "python",
   "name": "python3"
  },
  "language_info": {
   "codemirror_mode": {
    "name": "ipython",
    "version": 3
   },
   "file_extension": ".py",
   "mimetype": "text/x-python",
   "name": "python",
   "nbconvert_exporter": "python",
   "pygments_lexer": "ipython3",
   "version": "3.10.8"
  }
 },
 "nbformat": 4,
 "nbformat_minor": 4
}

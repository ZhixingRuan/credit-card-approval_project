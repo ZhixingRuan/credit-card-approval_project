{
 "cells": [
  {
   "cell_type": "code",
   "execution_count": 1,
   "id": "1bd8c860",
   "metadata": {},
   "outputs": [],
   "source": [
    "import pandas as pd\n",
    "import numpy as np\n",
    "import matplotlib.pyplot as plt\n",
    "import seaborn as sns\n",
    "#sns.set()\n",
    "\n",
    "from imblearn.over_sampling import SMOTE\n",
    "from imblearn.pipeline import Pipeline\n",
    "from sklearn.preprocessing import StandardScaler\n",
    "from sklearn.metrics import make_scorer, confusion_matrix, classification_report, precision_score, ConfusionMatrixDisplay\n",
    "from sklearn.compose import ColumnTransformer\n",
    "from sklearn.model_selection import cross_val_score, cross_validate, RepeatedStratifiedKFold, train_test_split, GridSearchCV\n",
    "from sklearn.linear_model import LogisticRegression\n",
    "from sklearn.svm import SVC\n",
    "from sklearn.ensemble import RandomForestClassifier\n",
    "from sklearn.svm import SVC\n",
    "from xgboost import XGBClassifier"
   ]
  },
  {
   "cell_type": "code",
   "execution_count": 2,
   "id": "a7834071",
   "metadata": {},
   "outputs": [
    {
     "data": {
      "text/html": [
       "<div>\n",
       "<style scoped>\n",
       "    .dataframe tbody tr th:only-of-type {\n",
       "        vertical-align: middle;\n",
       "    }\n",
       "\n",
       "    .dataframe tbody tr th {\n",
       "        vertical-align: top;\n",
       "    }\n",
       "\n",
       "    .dataframe thead th {\n",
       "        text-align: right;\n",
       "    }\n",
       "</style>\n",
       "<table border=\"1\" class=\"dataframe\">\n",
       "  <thead>\n",
       "    <tr style=\"text-align: right;\">\n",
       "      <th></th>\n",
       "      <th>annual_income</th>\n",
       "      <th>birthday</th>\n",
       "      <th>days_employment</th>\n",
       "      <th>family_size</th>\n",
       "      <th>work_phone</th>\n",
       "      <th>phone</th>\n",
       "      <th>email</th>\n",
       "      <th>car</th>\n",
       "      <th>property</th>\n",
       "      <th>education</th>\n",
       "      <th>...</th>\n",
       "      <th>occupation_Realty agents</th>\n",
       "      <th>occupation_Private service staff</th>\n",
       "      <th>marital_Single / not married</th>\n",
       "      <th>marital_Married</th>\n",
       "      <th>marital_Civil marriage</th>\n",
       "      <th>marital_Separated</th>\n",
       "      <th>marital_Widow</th>\n",
       "      <th>label</th>\n",
       "      <th>ID</th>\n",
       "      <th>window</th>\n",
       "    </tr>\n",
       "  </thead>\n",
       "  <tbody>\n",
       "    <tr>\n",
       "      <th>0</th>\n",
       "      <td>427500.0</td>\n",
       "      <td>-12005</td>\n",
       "      <td>-4542</td>\n",
       "      <td>2.0</td>\n",
       "      <td>1</td>\n",
       "      <td>0</td>\n",
       "      <td>0</td>\n",
       "      <td>1.0</td>\n",
       "      <td>1.0</td>\n",
       "      <td>3.0</td>\n",
       "      <td>...</td>\n",
       "      <td>0</td>\n",
       "      <td>0</td>\n",
       "      <td>0</td>\n",
       "      <td>0</td>\n",
       "      <td>1</td>\n",
       "      <td>0</td>\n",
       "      <td>0</td>\n",
       "      <td>0.0</td>\n",
       "      <td>5008804</td>\n",
       "      <td>15.0</td>\n",
       "    </tr>\n",
       "    <tr>\n",
       "      <th>1</th>\n",
       "      <td>427500.0</td>\n",
       "      <td>-12005</td>\n",
       "      <td>-4542</td>\n",
       "      <td>2.0</td>\n",
       "      <td>1</td>\n",
       "      <td>0</td>\n",
       "      <td>0</td>\n",
       "      <td>1.0</td>\n",
       "      <td>1.0</td>\n",
       "      <td>3.0</td>\n",
       "      <td>...</td>\n",
       "      <td>0</td>\n",
       "      <td>0</td>\n",
       "      <td>0</td>\n",
       "      <td>0</td>\n",
       "      <td>1</td>\n",
       "      <td>0</td>\n",
       "      <td>0</td>\n",
       "      <td>0.0</td>\n",
       "      <td>5008805</td>\n",
       "      <td>14.0</td>\n",
       "    </tr>\n",
       "    <tr>\n",
       "      <th>2</th>\n",
       "      <td>112500.0</td>\n",
       "      <td>-21474</td>\n",
       "      <td>-1134</td>\n",
       "      <td>2.0</td>\n",
       "      <td>0</td>\n",
       "      <td>0</td>\n",
       "      <td>0</td>\n",
       "      <td>1.0</td>\n",
       "      <td>1.0</td>\n",
       "      <td>1.0</td>\n",
       "      <td>...</td>\n",
       "      <td>0</td>\n",
       "      <td>0</td>\n",
       "      <td>0</td>\n",
       "      <td>1</td>\n",
       "      <td>0</td>\n",
       "      <td>0</td>\n",
       "      <td>0</td>\n",
       "      <td>0.0</td>\n",
       "      <td>5008806</td>\n",
       "      <td>29.0</td>\n",
       "    </tr>\n",
       "    <tr>\n",
       "      <th>3</th>\n",
       "      <td>270000.0</td>\n",
       "      <td>-19110</td>\n",
       "      <td>-3051</td>\n",
       "      <td>1.0</td>\n",
       "      <td>0</td>\n",
       "      <td>1</td>\n",
       "      <td>1</td>\n",
       "      <td>0.0</td>\n",
       "      <td>1.0</td>\n",
       "      <td>1.0</td>\n",
       "      <td>...</td>\n",
       "      <td>0</td>\n",
       "      <td>0</td>\n",
       "      <td>1</td>\n",
       "      <td>0</td>\n",
       "      <td>0</td>\n",
       "      <td>0</td>\n",
       "      <td>0</td>\n",
       "      <td>0.0</td>\n",
       "      <td>5008808</td>\n",
       "      <td>4.0</td>\n",
       "    </tr>\n",
       "    <tr>\n",
       "      <th>4</th>\n",
       "      <td>270000.0</td>\n",
       "      <td>-19110</td>\n",
       "      <td>-3051</td>\n",
       "      <td>1.0</td>\n",
       "      <td>0</td>\n",
       "      <td>1</td>\n",
       "      <td>1</td>\n",
       "      <td>0.0</td>\n",
       "      <td>1.0</td>\n",
       "      <td>1.0</td>\n",
       "      <td>...</td>\n",
       "      <td>0</td>\n",
       "      <td>0</td>\n",
       "      <td>1</td>\n",
       "      <td>0</td>\n",
       "      <td>0</td>\n",
       "      <td>0</td>\n",
       "      <td>0</td>\n",
       "      <td>0.0</td>\n",
       "      <td>5008809</td>\n",
       "      <td>4.0</td>\n",
       "    </tr>\n",
       "    <tr>\n",
       "      <th>...</th>\n",
       "      <td>...</td>\n",
       "      <td>...</td>\n",
       "      <td>...</td>\n",
       "      <td>...</td>\n",
       "      <td>...</td>\n",
       "      <td>...</td>\n",
       "      <td>...</td>\n",
       "      <td>...</td>\n",
       "      <td>...</td>\n",
       "      <td>...</td>\n",
       "      <td>...</td>\n",
       "      <td>...</td>\n",
       "      <td>...</td>\n",
       "      <td>...</td>\n",
       "      <td>...</td>\n",
       "      <td>...</td>\n",
       "      <td>...</td>\n",
       "      <td>...</td>\n",
       "      <td>...</td>\n",
       "      <td>...</td>\n",
       "      <td>...</td>\n",
       "    </tr>\n",
       "    <tr>\n",
       "      <th>438552</th>\n",
       "      <td>135000.0</td>\n",
       "      <td>-22717</td>\n",
       "      <td>0</td>\n",
       "      <td>1.0</td>\n",
       "      <td>0</td>\n",
       "      <td>0</td>\n",
       "      <td>0</td>\n",
       "      <td>0.0</td>\n",
       "      <td>1.0</td>\n",
       "      <td>1.0</td>\n",
       "      <td>...</td>\n",
       "      <td>0</td>\n",
       "      <td>0</td>\n",
       "      <td>0</td>\n",
       "      <td>0</td>\n",
       "      <td>0</td>\n",
       "      <td>1</td>\n",
       "      <td>0</td>\n",
       "      <td>NaN</td>\n",
       "      <td>6840104</td>\n",
       "      <td>NaN</td>\n",
       "    </tr>\n",
       "    <tr>\n",
       "      <th>438553</th>\n",
       "      <td>103500.0</td>\n",
       "      <td>-15939</td>\n",
       "      <td>-3007</td>\n",
       "      <td>1.0</td>\n",
       "      <td>0</td>\n",
       "      <td>0</td>\n",
       "      <td>0</td>\n",
       "      <td>0.0</td>\n",
       "      <td>0.0</td>\n",
       "      <td>1.0</td>\n",
       "      <td>...</td>\n",
       "      <td>0</td>\n",
       "      <td>0</td>\n",
       "      <td>1</td>\n",
       "      <td>0</td>\n",
       "      <td>0</td>\n",
       "      <td>0</td>\n",
       "      <td>0</td>\n",
       "      <td>NaN</td>\n",
       "      <td>6840222</td>\n",
       "      <td>NaN</td>\n",
       "    </tr>\n",
       "    <tr>\n",
       "      <th>438554</th>\n",
       "      <td>54000.0</td>\n",
       "      <td>-8169</td>\n",
       "      <td>-372</td>\n",
       "      <td>1.0</td>\n",
       "      <td>1</td>\n",
       "      <td>0</td>\n",
       "      <td>0</td>\n",
       "      <td>0.0</td>\n",
       "      <td>0.0</td>\n",
       "      <td>3.0</td>\n",
       "      <td>...</td>\n",
       "      <td>0</td>\n",
       "      <td>0</td>\n",
       "      <td>1</td>\n",
       "      <td>0</td>\n",
       "      <td>0</td>\n",
       "      <td>0</td>\n",
       "      <td>0</td>\n",
       "      <td>NaN</td>\n",
       "      <td>6841878</td>\n",
       "      <td>NaN</td>\n",
       "    </tr>\n",
       "    <tr>\n",
       "      <th>438555</th>\n",
       "      <td>72000.0</td>\n",
       "      <td>-21673</td>\n",
       "      <td>0</td>\n",
       "      <td>2.0</td>\n",
       "      <td>0</td>\n",
       "      <td>0</td>\n",
       "      <td>0</td>\n",
       "      <td>0.0</td>\n",
       "      <td>1.0</td>\n",
       "      <td>1.0</td>\n",
       "      <td>...</td>\n",
       "      <td>0</td>\n",
       "      <td>0</td>\n",
       "      <td>0</td>\n",
       "      <td>1</td>\n",
       "      <td>0</td>\n",
       "      <td>0</td>\n",
       "      <td>0</td>\n",
       "      <td>NaN</td>\n",
       "      <td>6842765</td>\n",
       "      <td>NaN</td>\n",
       "    </tr>\n",
       "    <tr>\n",
       "      <th>438556</th>\n",
       "      <td>121500.0</td>\n",
       "      <td>-18858</td>\n",
       "      <td>-1201</td>\n",
       "      <td>2.0</td>\n",
       "      <td>0</td>\n",
       "      <td>1</td>\n",
       "      <td>0</td>\n",
       "      <td>0.0</td>\n",
       "      <td>1.0</td>\n",
       "      <td>1.0</td>\n",
       "      <td>...</td>\n",
       "      <td>0</td>\n",
       "      <td>0</td>\n",
       "      <td>0</td>\n",
       "      <td>1</td>\n",
       "      <td>0</td>\n",
       "      <td>0</td>\n",
       "      <td>0</td>\n",
       "      <td>NaN</td>\n",
       "      <td>6842885</td>\n",
       "      <td>NaN</td>\n",
       "    </tr>\n",
       "  </tbody>\n",
       "</table>\n",
       "<p>438557 rows × 48 columns</p>\n",
       "</div>"
      ],
      "text/plain": [
       "        annual_income  birthday  days_employment  family_size  work_phone  \\\n",
       "0            427500.0    -12005            -4542          2.0           1   \n",
       "1            427500.0    -12005            -4542          2.0           1   \n",
       "2            112500.0    -21474            -1134          2.0           0   \n",
       "3            270000.0    -19110            -3051          1.0           0   \n",
       "4            270000.0    -19110            -3051          1.0           0   \n",
       "...               ...       ...              ...          ...         ...   \n",
       "438552       135000.0    -22717                0          1.0           0   \n",
       "438553       103500.0    -15939            -3007          1.0           0   \n",
       "438554        54000.0     -8169             -372          1.0           1   \n",
       "438555        72000.0    -21673                0          2.0           0   \n",
       "438556       121500.0    -18858            -1201          2.0           0   \n",
       "\n",
       "        phone  email  car  property  education  ...  occupation_Realty agents  \\\n",
       "0           0      0  1.0       1.0        3.0  ...                         0   \n",
       "1           0      0  1.0       1.0        3.0  ...                         0   \n",
       "2           0      0  1.0       1.0        1.0  ...                         0   \n",
       "3           1      1  0.0       1.0        1.0  ...                         0   \n",
       "4           1      1  0.0       1.0        1.0  ...                         0   \n",
       "...       ...    ...  ...       ...        ...  ...                       ...   \n",
       "438552      0      0  0.0       1.0        1.0  ...                         0   \n",
       "438553      0      0  0.0       0.0        1.0  ...                         0   \n",
       "438554      0      0  0.0       0.0        3.0  ...                         0   \n",
       "438555      0      0  0.0       1.0        1.0  ...                         0   \n",
       "438556      1      0  0.0       1.0        1.0  ...                         0   \n",
       "\n",
       "        occupation_Private service staff  marital_Single / not married  \\\n",
       "0                                      0                             0   \n",
       "1                                      0                             0   \n",
       "2                                      0                             0   \n",
       "3                                      0                             1   \n",
       "4                                      0                             1   \n",
       "...                                  ...                           ...   \n",
       "438552                                 0                             0   \n",
       "438553                                 0                             1   \n",
       "438554                                 0                             1   \n",
       "438555                                 0                             0   \n",
       "438556                                 0                             0   \n",
       "\n",
       "        marital_Married  marital_Civil marriage  marital_Separated  \\\n",
       "0                     0                       1                  0   \n",
       "1                     0                       1                  0   \n",
       "2                     1                       0                  0   \n",
       "3                     0                       0                  0   \n",
       "4                     0                       0                  0   \n",
       "...                 ...                     ...                ...   \n",
       "438552                0                       0                  1   \n",
       "438553                0                       0                  0   \n",
       "438554                0                       0                  0   \n",
       "438555                1                       0                  0   \n",
       "438556                1                       0                  0   \n",
       "\n",
       "        marital_Widow  label       ID  window  \n",
       "0                   0    0.0  5008804    15.0  \n",
       "1                   0    0.0  5008805    14.0  \n",
       "2                   0    0.0  5008806    29.0  \n",
       "3                   0    0.0  5008808     4.0  \n",
       "4                   0    0.0  5008809     4.0  \n",
       "...               ...    ...      ...     ...  \n",
       "438552              0    NaN  6840104     NaN  \n",
       "438553              0    NaN  6840222     NaN  \n",
       "438554              0    NaN  6841878     NaN  \n",
       "438555              0    NaN  6842765     NaN  \n",
       "438556              0    NaN  6842885     NaN  \n",
       "\n",
       "[438557 rows x 48 columns]"
      ]
     },
     "execution_count": 2,
     "metadata": {},
     "output_type": "execute_result"
    }
   ],
   "source": [
    "df = pd.read_csv('./data/data_clean.csv')\n",
    "df"
   ]
  },
  {
   "cell_type": "code",
   "execution_count": 3,
   "id": "970ad14e",
   "metadata": {},
   "outputs": [],
   "source": [
    "df.dropna(inplace=True)"
   ]
  },
  {
   "cell_type": "code",
   "execution_count": null,
   "id": "4ce480e2",
   "metadata": {},
   "outputs": [],
   "source": [
    "df"
   ]
  },
  {
   "cell_type": "code",
   "execution_count": 4,
   "id": "6865e55a",
   "metadata": {
    "scrolled": true
   },
   "outputs": [
    {
     "data": {
      "text/plain": [
       "0.0    35841\n",
       "1.0      616\n",
       "Name: label, dtype: int64"
      ]
     },
     "execution_count": 4,
     "metadata": {},
     "output_type": "execute_result"
    }
   ],
   "source": [
    "df.label.value_counts() # base rate = 1.7%"
   ]
  },
  {
   "cell_type": "markdown",
   "id": "79c014b6",
   "metadata": {},
   "source": [
    "**Just learning from the users who have long than 3 months of records.** "
   ]
  },
  {
   "cell_type": "code",
   "execution_count": 5,
   "id": "8f2cda1e",
   "metadata": {},
   "outputs": [],
   "source": [
    "df_3m = df.loc[df.window >= 3]"
   ]
  },
  {
   "cell_type": "code",
   "execution_count": 6,
   "id": "9ee7b276",
   "metadata": {},
   "outputs": [
    {
     "data": {
      "text/plain": [
       "0.0    33512\n",
       "1.0      615\n",
       "Name: label, dtype: int64"
      ]
     },
     "execution_count": 6,
     "metadata": {},
     "output_type": "execute_result"
    }
   ],
   "source": [
    "df_3m.label.value_counts() # base rate = 1.8%"
   ]
  },
  {
   "cell_type": "code",
   "execution_count": 7,
   "id": "5fc2c85f",
   "metadata": {},
   "outputs": [
    {
     "data": {
      "text/plain": [
       "Text(0.5, 1.0, \"Distribution of users' class\")"
      ]
     },
     "execution_count": 7,
     "metadata": {},
     "output_type": "execute_result"
    },
    {
     "data": {
      "image/png": "[encoded data removed]",
      "text/plain": [
       "<Figure size 640x480 with 1 Axes>"
      ]
     },
     "metadata": {},
     "output_type": "display_data"
    }
   ],
   "source": [
    "plt.pie(df_3m['label'].value_counts(), autopct='%1.1f%%')\n",
    "plt.title('Distribution of users\\' class')"
   ]
  },
  {
   "cell_type": "markdown",
   "id": "871c06b5",
   "metadata": {},
   "source": [
    "**The old model predicted all the applicants in the dataset df_3m as 'good' client.**  \n",
    "- We labeled the credit card users who overdue for more than 60 days as risk clients.\n",
    "- The money loss predicted by the old model is: 0 \n",
    "-The precision of our new model will represent how many 'bad' clients we can predict. The money loss can be predicted as: FN * loss_aver + FP * gain_aver, loss_aver is the average of money loss caused by a 'bad' client, gain_aver is the money gain brought by a 'good' client on average. \n",
    "-So how to evalute the model's performance depends on the money loss of one bad client and money gain of one good client. We can talk with other teams to discuss how to do feature engineering, select model and tune model."
   ]
  },
  {
   "cell_type": "code",
   "execution_count": null,
   "id": "27fc4171",
   "metadata": {},
   "outputs": [],
   "source": [
    "33512 / (33512+515)"
   ]
  },
  {
   "cell_type": "markdown",
   "id": "d91c5243",
   "metadata": {},
   "source": [
    "# Scaling data and Processing imbalance dataset"
   ]
  },
  {
   "cell_type": "markdown",
   "id": "1735c267",
   "metadata": {},
   "source": [
    "**Oversample the minority class using SMOTE**"
   ]
  },
  {
   "cell_type": "code",
   "execution_count": 8,
   "id": "dbb91256",
   "metadata": {},
   "outputs": [],
   "source": [
    "numeric_features = ['annual_income', 'birthday', 'days_employment', 'family_size']\n",
    "scaler = ColumnTransformer(\n",
    "    transformers=[('num_scaler', StandardScaler(), numeric_features)],\n",
    "    remainder='passthrough'\n",
    ")\n",
    "#oversample = SMOTE(random_state=1) # sampling_strategy: can try to tune"
   ]
  },
  {
   "cell_type": "markdown",
   "id": "e46150cd",
   "metadata": {},
   "source": [
    "# Model Selection"
   ]
  },
  {
   "cell_type": "markdown",
   "id": "04bdebc2",
   "metadata": {},
   "source": [
    "**Using repeated stratified Kfold to evaluate.**\n",
    "- Both StratifiedKFold and RepeatedStratifiedKFold can be very effective when used on classification problems with a severe class imbalance. They both stratify the sampling by the class label; that is, they split the dataset in such a way that preserves approximately the same class distribution (i.e., the same percentage of samples of each class) in each subset/fold as in the original dataset. \n",
    "- However, a single run of StratifiedKFold might result in a noisy estimate of the model's performance, as different splits of the data might result in very different results. That is where RepeatedStratifiedKFold comes into play."
   ]
  },
  {
   "cell_type": "code",
   "execution_count": 9,
   "id": "43ab98a3",
   "metadata": {},
   "outputs": [
    {
     "data": {
      "text/plain": [
       "['annual_income',\n",
       " 'birthday',\n",
       " 'days_employment',\n",
       " 'family_size',\n",
       " 'work_phone',\n",
       " 'phone',\n",
       " 'email',\n",
       " 'car',\n",
       " 'property',\n",
       " 'education',\n",
       " 'gender',\n",
       " 'income_Student',\n",
       " 'income_Pensioner',\n",
       " 'income_State servant',\n",
       " 'income_Commercial associate',\n",
       " 'income_Working',\n",
       " 'housing_Municipal apartment',\n",
       " 'housing_With parents',\n",
       " 'housing_Office apartment',\n",
       " 'housing_Rented apartment',\n",
       " 'housing_House / apartment',\n",
       " 'housing_Co-op apartment',\n",
       " 'occupation_Cleaning staff',\n",
       " 'occupation_others',\n",
       " 'occupation_Security staff',\n",
       " 'occupation_Medicine staff',\n",
       " 'occupation_Managers',\n",
       " 'occupation_Sales staff',\n",
       " 'occupation_Cooking staff',\n",
       " 'occupation_Core staff',\n",
       " 'occupation_Laborers',\n",
       " 'occupation_Low-skill Laborers',\n",
       " 'occupation_Waiters/barmen staff',\n",
       " 'occupation_IT staff',\n",
       " 'occupation_Accountants',\n",
       " 'occupation_Secretaries',\n",
       " 'occupation_High skill tech staff',\n",
       " 'occupation_Drivers',\n",
       " 'occupation_Realty agents',\n",
       " 'occupation_Private service staff',\n",
       " 'marital_Single / not married',\n",
       " 'marital_Married',\n",
       " 'marital_Civil marriage',\n",
       " 'marital_Separated',\n",
       " 'marital_Widow']"
      ]
     },
     "execution_count": 9,
     "metadata": {},
     "output_type": "execute_result"
    }
   ],
   "source": [
    "features = list(df_3m.columns)\n",
    "target = 'label'\n",
    "features.remove('ID')\n",
    "features.remove('window')\n",
    "features.remove(target)\n",
    "features"
   ]
  },
  {
   "cell_type": "code",
   "execution_count": 10,
   "id": "ecd738f3",
   "metadata": {},
   "outputs": [],
   "source": [
    "X = df_3m[features]\n",
    "y = df_3m[target]"
   ]
  },
  {
   "cell_type": "code",
   "execution_count": 11,
   "id": "2e90f905-71c6-4eaa-902e-93580b420f51",
   "metadata": {},
   "outputs": [],
   "source": [
    "output = pd.concat([X, y], axis=1)\n",
    "output.to_csv('./flask/model/model_trainset.csv', index=False)"
   ]
  },
  {
   "cell_type": "markdown",
   "id": "165e6d0a",
   "metadata": {},
   "source": [
    "## Using ROC_AUC as metric to choose models"
   ]
  },
  {
   "cell_type": "markdown",
   "id": "dbe1cd08",
   "metadata": {},
   "source": [
    "**1. Logistic Regression**"
   ]
  },
  {
   "cell_type": "code",
   "execution_count": 11,
   "id": "d0e5912b",
   "metadata": {},
   "outputs": [
    {
     "data": {
      "text/html": [
       "<style>#sk-container-id-1 {color: black;background-color: white;}#sk-container-id-1 pre{padding: 0;}#sk-container-id-1 div.sk-toggleable {background-color: white;}#sk-container-id-1 label.sk-toggleable__label {cursor: pointer;display: block;width: 100%;margin-bottom: 0;padding: 0.3em;box-sizing: border-box;text-align: center;}#sk-container-id-1 label.sk-toggleable__label-arrow:before {content: \"▸\";float: left;margin-right: 0.25em;color: #696969;}#sk-container-id-1 label.sk-toggleable__label-arrow:hover:before {color: black;}#sk-container-id-1 div.sk-estimator:hover label.sk-toggleable__label-arrow:before {color: black;}#sk-container-id-1 div.sk-toggleable__content {max-height: 0;max-width: 0;overflow: hidden;text-align: left;background-color: #f0f8ff;}#sk-container-id-1 div.sk-toggleable__content pre {margin: 0.2em;color: black;border-radius: 0.25em;background-color: #f0f8ff;}#sk-container-id-1 input.sk-toggleable__control:checked~div.sk-toggleable__content {max-height: 200px;max-width: 100%;overflow: auto;}#sk-container-id-1 input.sk-toggleable__control:checked~label.sk-toggleable__label-arrow:before {content: \"▾\";}#sk-container-id-1 div.sk-estimator input.sk-toggleable__control:checked~label.sk-toggleable__label {background-color: #d4ebff;}#sk-container-id-1 div.sk-label input.sk-toggleable__control:checked~label.sk-toggleable__label {background-color: #d4ebff;}#sk-container-id-1 input.sk-hidden--visually {border: 0;clip: rect(1px 1px 1px 1px);clip: rect(1px, 1px, 1px, 1px);height: 1px;margin: -1px;overflow: hidden;padding: 0;position: absolute;width: 1px;}#sk-container-id-1 div.sk-estimator {font-family: monospace;background-color: #f0f8ff;border: 1px dotted black;border-radius: 0.25em;box-sizing: border-box;margin-bottom: 0.5em;}#sk-container-id-1 div.sk-estimator:hover {background-color: #d4ebff;}#sk-container-id-1 div.sk-parallel-item::after {content: \"\";width: 100%;border-bottom: 1px solid gray;flex-grow: 1;}#sk-container-id-1 div.sk-label:hover label.sk-toggleable__label {background-color: #d4ebff;}#sk-container-id-1 div.sk-serial::before {content: \"\";position: absolute;border-left: 1px solid gray;box-sizing: border-box;top: 0;bottom: 0;left: 50%;z-index: 0;}#sk-container-id-1 div.sk-serial {display: flex;flex-direction: column;align-items: center;background-color: white;padding-right: 0.2em;padding-left: 0.2em;position: relative;}#sk-container-id-1 div.sk-item {position: relative;z-index: 1;}#sk-container-id-1 div.sk-parallel {display: flex;align-items: stretch;justify-content: center;background-color: white;position: relative;}#sk-container-id-1 div.sk-item::before, #sk-container-id-1 div.sk-parallel-item::before {content: \"\";position: absolute;border-left: 1px solid gray;box-sizing: border-box;top: 0;bottom: 0;left: 50%;z-index: -1;}#sk-container-id-1 div.sk-parallel-item {display: flex;flex-direction: column;z-index: 1;position: relative;background-color: white;}#sk-container-id-1 div.sk-parallel-item:first-child::after {align-self: flex-end;width: 50%;}#sk-container-id-1 div.sk-parallel-item:last-child::after {align-self: flex-start;width: 50%;}#sk-container-id-1 div.sk-parallel-item:only-child::after {width: 0;}#sk-container-id-1 div.sk-dashed-wrapped {border: 1px dashed gray;margin: 0 0.4em 0.5em 0.4em;box-sizing: border-box;padding-bottom: 0.4em;background-color: white;}#sk-container-id-1 div.sk-label label {font-family: monospace;font-weight: bold;display: inline-block;line-height: 1.2em;}#sk-container-id-1 div.sk-label-container {text-align: center;}#sk-container-id-1 div.sk-container {/* jupyter's `normalize.less` sets `[hidden] { display: none; }` but bootstrap.min.css set `[hidden] { display: none !important; }` so we also need the `!important` here to be able to override the default hidden behavior on the sphinx rendered scikit-learn.org. See: https://github.com/scikit-learn/scikit-learn/issues/21755 */display: inline-block !important;position: relative;}#sk-container-id-1 div.sk-text-repr-fallback {display: none;}</style><div id=\"sk-container-id-1\" class=\"sk-top-container\"><div class=\"sk-text-repr-fallback\"><pre>Pipeline(steps=[(&#x27;over&#x27;, SMOTE()),\n",
       "                (&#x27;scaler&#x27;,\n",
       "                 ColumnTransformer(remainder=&#x27;passthrough&#x27;,\n",
       "                                   transformers=[(&#x27;num_scaler&#x27;,\n",
       "                                                  StandardScaler(),\n",
       "                                                  [&#x27;annual_income&#x27;, &#x27;birthday&#x27;,\n",
       "                                                   &#x27;days_employment&#x27;,\n",
       "                                                   &#x27;family_size&#x27;])])),\n",
       "                (&#x27;model&#x27;,\n",
       "                 LogisticRegression(max_iter=10000, n_jobs=-1, tol=0.001))])</pre><b>In a Jupyter environment, please rerun this cell to show the HTML representation or trust the notebook. <br />On GitHub, the HTML representation is unable to render, please try loading this page with nbviewer.org.</b></div><div class=\"sk-container\" hidden><div class=\"sk-item sk-dashed-wrapped\"><div class=\"sk-label-container\"><div class=\"sk-label sk-toggleable\"><input class=\"sk-toggleable__control sk-hidden--visually\" id=\"sk-estimator-id-1\" type=\"checkbox\" ><label for=\"sk-estimator-id-1\" class=\"sk-toggleable__label sk-toggleable__label-arrow\">Pipeline</label><div class=\"sk-toggleable__content\"><pre>Pipeline(steps=[(&#x27;over&#x27;, SMOTE()),\n",
       "                (&#x27;scaler&#x27;,\n",
       "                 ColumnTransformer(remainder=&#x27;passthrough&#x27;,\n",
       "                                   transformers=[(&#x27;num_scaler&#x27;,\n",
       "                                                  StandardScaler(),\n",
       "                                                  [&#x27;annual_income&#x27;, &#x27;birthday&#x27;,\n",
       "                                                   &#x27;days_employment&#x27;,\n",
       "                                                   &#x27;family_size&#x27;])])),\n",
       "                (&#x27;model&#x27;,\n",
       "                 LogisticRegression(max_iter=10000, n_jobs=-1, tol=0.001))])</pre></div></div></div><div class=\"sk-serial\"><div class=\"sk-item\"><div class=\"sk-estimator sk-toggleable\"><input class=\"sk-toggleable__control sk-hidden--visually\" id=\"sk-estimator-id-2\" type=\"checkbox\" ><label for=\"sk-estimator-id-2\" class=\"sk-toggleable__label sk-toggleable__label-arrow\">SMOTE</label><div class=\"sk-toggleable__content\"><pre>SMOTE()</pre></div></div></div><div class=\"sk-item sk-dashed-wrapped\"><div class=\"sk-label-container\"><div class=\"sk-label sk-toggleable\"><input class=\"sk-toggleable__control sk-hidden--visually\" id=\"sk-estimator-id-3\" type=\"checkbox\" ><label for=\"sk-estimator-id-3\" class=\"sk-toggleable__label sk-toggleable__label-arrow\">scaler: ColumnTransformer</label><div class=\"sk-toggleable__content\"><pre>ColumnTransformer(remainder=&#x27;passthrough&#x27;,\n",
       "                  transformers=[(&#x27;num_scaler&#x27;, StandardScaler(),\n",
       "                                 [&#x27;annual_income&#x27;, &#x27;birthday&#x27;,\n",
       "                                  &#x27;days_employment&#x27;, &#x27;family_size&#x27;])])</pre></div></div></div><div class=\"sk-parallel\"><div class=\"sk-parallel-item\"><div class=\"sk-item\"><div class=\"sk-label-container\"><div class=\"sk-label sk-toggleable\"><input class=\"sk-toggleable__control sk-hidden--visually\" id=\"sk-estimator-id-4\" type=\"checkbox\" ><label for=\"sk-estimator-id-4\" class=\"sk-toggleable__label sk-toggleable__label-arrow\">num_scaler</label><div class=\"sk-toggleable__content\"><pre>[&#x27;annual_income&#x27;, &#x27;birthday&#x27;, &#x27;days_employment&#x27;, &#x27;family_size&#x27;]</pre></div></div></div><div class=\"sk-serial\"><div class=\"sk-item\"><div class=\"sk-estimator sk-toggleable\"><input class=\"sk-toggleable__control sk-hidden--visually\" id=\"sk-estimator-id-5\" type=\"checkbox\" ><label for=\"sk-estimator-id-5\" class=\"sk-toggleable__label sk-toggleable__label-arrow\">StandardScaler</label><div class=\"sk-toggleable__content\"><pre>StandardScaler()</pre></div></div></div></div></div></div><div class=\"sk-parallel-item\"><div class=\"sk-item\"><div class=\"sk-label-container\"><div class=\"sk-label sk-toggleable\"><input class=\"sk-toggleable__control sk-hidden--visually\" id=\"sk-estimator-id-6\" type=\"checkbox\" ><label for=\"sk-estimator-id-6\" class=\"sk-toggleable__label sk-toggleable__label-arrow\">remainder</label><div class=\"sk-toggleable__content\"><pre></pre></div></div></div><div class=\"sk-serial\"><div class=\"sk-item\"><div class=\"sk-estimator sk-toggleable\"><input class=\"sk-toggleable__control sk-hidden--visually\" id=\"sk-estimator-id-7\" type=\"checkbox\" ><label for=\"sk-estimator-id-7\" class=\"sk-toggleable__label sk-toggleable__label-arrow\">passthrough</label><div class=\"sk-toggleable__content\"><pre>passthrough</pre></div></div></div></div></div></div></div></div><div class=\"sk-item\"><div class=\"sk-estimator sk-toggleable\"><input class=\"sk-toggleable__control sk-hidden--visually\" id=\"sk-estimator-id-8\" type=\"checkbox\" ><label for=\"sk-estimator-id-8\" class=\"sk-toggleable__label sk-toggleable__label-arrow\">LogisticRegression</label><div class=\"sk-toggleable__content\"><pre>LogisticRegression(max_iter=10000, n_jobs=-1, tol=0.001)</pre></div></div></div></div></div></div></div>"
      ],
      "text/plain": [
       "Pipeline(steps=[('over', SMOTE()),\n",
       "                ('scaler',\n",
       "                 ColumnTransformer(remainder='passthrough',\n",
       "                                   transformers=[('num_scaler',\n",
       "                                                  StandardScaler(),\n",
       "                                                  ['annual_income', 'birthday',\n",
       "                                                   'days_employment',\n",
       "                                                   'family_size'])])),\n",
       "                ('model',\n",
       "                 LogisticRegression(max_iter=10000, n_jobs=-1, tol=0.001))])"
      ]
     },
     "execution_count": 11,
     "metadata": {},
     "output_type": "execute_result"
    }
   ],
   "source": [
    "# define pipeline\n",
    "steps = [('over', SMOTE()), \n",
    "         ('scaler', scaler),\n",
    "         ('model', LogisticRegression(tol=0.001, max_iter=10000, n_jobs=-1))]\n",
    "pipeline = Pipeline(steps=steps)\n",
    "Pipeline(steps=steps)"
   ]
  },
  {
   "cell_type": "code",
   "execution_count": 12,
   "id": "33795f86",
   "metadata": {},
   "outputs": [
    {
     "name": "stdout",
     "output_type": "stream",
     "text": [
      "Mean ROC AUC: 0.557\n",
      "[0.53582366 0.53616024 0.54517824 0.56914512 0.57075609 0.57559714\n",
      " 0.5833494  0.53203449 0.58586322 0.53940821]\n"
     ]
    }
   ],
   "source": [
    "#cv = RepeatedStratifiedKFold(n_splits=10, n_repeats=3, random_state=1)\n",
    "cv = RepeatedStratifiedKFold(n_splits=5, n_repeats=2, random_state=1)\n",
    "scores = cross_val_score(pipeline, X, y, scoring='roc_auc', cv=cv, n_jobs=-1)\n",
    "print('Mean ROC AUC: %.3f' % np.mean(scores))\n",
    "print(scores)\n",
    "\n",
    "#scores = cross_validate(pipeline, X, y, scoring=('roc_auc', 'precision') , cv=cv, n_jobs=-1)\n",
    "#print(scores)"
   ]
  },
  {
   "cell_type": "markdown",
   "id": "331e19d7",
   "metadata": {},
   "source": [
    "**2. SVM**"
   ]
  },
  {
   "cell_type": "code",
   "execution_count": 13,
   "id": "3603ef09",
   "metadata": {},
   "outputs": [
    {
     "data": {
      "text/html": [
       "<style>#sk-container-id-2 {color: black;background-color: white;}#sk-container-id-2 pre{padding: 0;}#sk-container-id-2 div.sk-toggleable {background-color: white;}#sk-container-id-2 label.sk-toggleable__label {cursor: pointer;display: block;width: 100%;margin-bottom: 0;padding: 0.3em;box-sizing: border-box;text-align: center;}#sk-container-id-2 label.sk-toggleable__label-arrow:before {content: \"▸\";float: left;margin-right: 0.25em;color: #696969;}#sk-container-id-2 label.sk-toggleable__label-arrow:hover:before {color: black;}#sk-container-id-2 div.sk-estimator:hover label.sk-toggleable__label-arrow:before {color: black;}#sk-container-id-2 div.sk-toggleable__content {max-height: 0;max-width: 0;overflow: hidden;text-align: left;background-color: #f0f8ff;}#sk-container-id-2 div.sk-toggleable__content pre {margin: 0.2em;color: black;border-radius: 0.25em;background-color: #f0f8ff;}#sk-container-id-2 input.sk-toggleable__control:checked~div.sk-toggleable__content {max-height: 200px;max-width: 100%;overflow: auto;}#sk-container-id-2 input.sk-toggleable__control:checked~label.sk-toggleable__label-arrow:before {content: \"▾\";}#sk-container-id-2 div.sk-estimator input.sk-toggleable__control:checked~label.sk-toggleable__label {background-color: #d4ebff;}#sk-container-id-2 div.sk-label input.sk-toggleable__control:checked~label.sk-toggleable__label {background-color: #d4ebff;}#sk-container-id-2 input.sk-hidden--visually {border: 0;clip: rect(1px 1px 1px 1px);clip: rect(1px, 1px, 1px, 1px);height: 1px;margin: -1px;overflow: hidden;padding: 0;position: absolute;width: 1px;}#sk-container-id-2 div.sk-estimator {font-family: monospace;background-color: #f0f8ff;border: 1px dotted black;border-radius: 0.25em;box-sizing: border-box;margin-bottom: 0.5em;}#sk-container-id-2 div.sk-estimator:hover {background-color: #d4ebff;}#sk-container-id-2 div.sk-parallel-item::after {content: \"\";width: 100%;border-bottom: 1px solid gray;flex-grow: 1;}#sk-container-id-2 div.sk-label:hover label.sk-toggleable__label {background-color: #d4ebff;}#sk-container-id-2 div.sk-serial::before {content: \"\";position: absolute;border-left: 1px solid gray;box-sizing: border-box;top: 0;bottom: 0;left: 50%;z-index: 0;}#sk-container-id-2 div.sk-serial {display: flex;flex-direction: column;align-items: center;background-color: white;padding-right: 0.2em;padding-left: 0.2em;position: relative;}#sk-container-id-2 div.sk-item {position: relative;z-index: 1;}#sk-container-id-2 div.sk-parallel {display: flex;align-items: stretch;justify-content: center;background-color: white;position: relative;}#sk-container-id-2 div.sk-item::before, #sk-container-id-2 div.sk-parallel-item::before {content: \"\";position: absolute;border-left: 1px solid gray;box-sizing: border-box;top: 0;bottom: 0;left: 50%;z-index: -1;}#sk-container-id-2 div.sk-parallel-item {display: flex;flex-direction: column;z-index: 1;position: relative;background-color: white;}#sk-container-id-2 div.sk-parallel-item:first-child::after {align-self: flex-end;width: 50%;}#sk-container-id-2 div.sk-parallel-item:last-child::after {align-self: flex-start;width: 50%;}#sk-container-id-2 div.sk-parallel-item:only-child::after {width: 0;}#sk-container-id-2 div.sk-dashed-wrapped {border: 1px dashed gray;margin: 0 0.4em 0.5em 0.4em;box-sizing: border-box;padding-bottom: 0.4em;background-color: white;}#sk-container-id-2 div.sk-label label {font-family: monospace;font-weight: bold;display: inline-block;line-height: 1.2em;}#sk-container-id-2 div.sk-label-container {text-align: center;}#sk-container-id-2 div.sk-container {/* jupyter's `normalize.less` sets `[hidden] { display: none; }` but bootstrap.min.css set `[hidden] { display: none !important; }` so we also need the `!important` here to be able to override the default hidden behavior on the sphinx rendered scikit-learn.org. See: https://github.com/scikit-learn/scikit-learn/issues/21755 */display: inline-block !important;position: relative;}#sk-container-id-2 div.sk-text-repr-fallback {display: none;}</style><div id=\"sk-container-id-2\" class=\"sk-top-container\"><div class=\"sk-text-repr-fallback\"><pre>Pipeline(steps=[(&#x27;over&#x27;, SMOTE()),\n",
       "                (&#x27;scaler&#x27;,\n",
       "                 ColumnTransformer(remainder=&#x27;passthrough&#x27;,\n",
       "                                   transformers=[(&#x27;num_scaler&#x27;,\n",
       "                                                  StandardScaler(),\n",
       "                                                  [&#x27;annual_income&#x27;, &#x27;birthday&#x27;,\n",
       "                                                   &#x27;days_employment&#x27;,\n",
       "                                                   &#x27;family_size&#x27;])])),\n",
       "                (&#x27;model&#x27;, SVC())])</pre><b>In a Jupyter environment, please rerun this cell to show the HTML representation or trust the notebook. <br />On GitHub, the HTML representation is unable to render, please try loading this page with nbviewer.org.</b></div><div class=\"sk-container\" hidden><div class=\"sk-item sk-dashed-wrapped\"><div class=\"sk-label-container\"><div class=\"sk-label sk-toggleable\"><input class=\"sk-toggleable__control sk-hidden--visually\" id=\"sk-estimator-id-9\" type=\"checkbox\" ><label for=\"sk-estimator-id-9\" class=\"sk-toggleable__label sk-toggleable__label-arrow\">Pipeline</label><div class=\"sk-toggleable__content\"><pre>Pipeline(steps=[(&#x27;over&#x27;, SMOTE()),\n",
       "                (&#x27;scaler&#x27;,\n",
       "                 ColumnTransformer(remainder=&#x27;passthrough&#x27;,\n",
       "                                   transformers=[(&#x27;num_scaler&#x27;,\n",
       "                                                  StandardScaler(),\n",
       "                                                  [&#x27;annual_income&#x27;, &#x27;birthday&#x27;,\n",
       "                                                   &#x27;days_employment&#x27;,\n",
       "                                                   &#x27;family_size&#x27;])])),\n",
       "                (&#x27;model&#x27;, SVC())])</pre></div></div></div><div class=\"sk-serial\"><div class=\"sk-item\"><div class=\"sk-estimator sk-toggleable\"><input class=\"sk-toggleable__control sk-hidden--visually\" id=\"sk-estimator-id-10\" type=\"checkbox\" ><label for=\"sk-estimator-id-10\" class=\"sk-toggleable__label sk-toggleable__label-arrow\">SMOTE</label><div class=\"sk-toggleable__content\"><pre>SMOTE()</pre></div></div></div><div class=\"sk-item sk-dashed-wrapped\"><div class=\"sk-label-container\"><div class=\"sk-label sk-toggleable\"><input class=\"sk-toggleable__control sk-hidden--visually\" id=\"sk-estimator-id-11\" type=\"checkbox\" ><label for=\"sk-estimator-id-11\" class=\"sk-toggleable__label sk-toggleable__label-arrow\">scaler: ColumnTransformer</label><div class=\"sk-toggleable__content\"><pre>ColumnTransformer(remainder=&#x27;passthrough&#x27;,\n",
       "                  transformers=[(&#x27;num_scaler&#x27;, StandardScaler(),\n",
       "                                 [&#x27;annual_income&#x27;, &#x27;birthday&#x27;,\n",
       "                                  &#x27;days_employment&#x27;, &#x27;family_size&#x27;])])</pre></div></div></div><div class=\"sk-parallel\"><div class=\"sk-parallel-item\"><div class=\"sk-item\"><div class=\"sk-label-container\"><div class=\"sk-label sk-toggleable\"><input class=\"sk-toggleable__control sk-hidden--visually\" id=\"sk-estimator-id-12\" type=\"checkbox\" ><label for=\"sk-estimator-id-12\" class=\"sk-toggleable__label sk-toggleable__label-arrow\">num_scaler</label><div class=\"sk-toggleable__content\"><pre>[&#x27;annual_income&#x27;, &#x27;birthday&#x27;, &#x27;days_employment&#x27;, &#x27;family_size&#x27;]</pre></div></div></div><div class=\"sk-serial\"><div class=\"sk-item\"><div class=\"sk-estimator sk-toggleable\"><input class=\"sk-toggleable__control sk-hidden--visually\" id=\"sk-estimator-id-13\" type=\"checkbox\" ><label for=\"sk-estimator-id-13\" class=\"sk-toggleable__label sk-toggleable__label-arrow\">StandardScaler</label><div class=\"sk-toggleable__content\"><pre>StandardScaler()</pre></div></div></div></div></div></div><div class=\"sk-parallel-item\"><div class=\"sk-item\"><div class=\"sk-label-container\"><div class=\"sk-label sk-toggleable\"><input class=\"sk-toggleable__control sk-hidden--visually\" id=\"sk-estimator-id-14\" type=\"checkbox\" ><label for=\"sk-estimator-id-14\" class=\"sk-toggleable__label sk-toggleable__label-arrow\">remainder</label><div class=\"sk-toggleable__content\"><pre></pre></div></div></div><div class=\"sk-serial\"><div class=\"sk-item\"><div class=\"sk-estimator sk-toggleable\"><input class=\"sk-toggleable__control sk-hidden--visually\" id=\"sk-estimator-id-15\" type=\"checkbox\" ><label for=\"sk-estimator-id-15\" class=\"sk-toggleable__label sk-toggleable__label-arrow\">passthrough</label><div class=\"sk-toggleable__content\"><pre>passthrough</pre></div></div></div></div></div></div></div></div><div class=\"sk-item\"><div class=\"sk-estimator sk-toggleable\"><input class=\"sk-toggleable__control sk-hidden--visually\" id=\"sk-estimator-id-16\" type=\"checkbox\" ><label for=\"sk-estimator-id-16\" class=\"sk-toggleable__label sk-toggleable__label-arrow\">SVC</label><div class=\"sk-toggleable__content\"><pre>SVC()</pre></div></div></div></div></div></div></div>"
      ],
      "text/plain": [
       "Pipeline(steps=[('over', SMOTE()),\n",
       "                ('scaler',\n",
       "                 ColumnTransformer(remainder='passthrough',\n",
       "                                   transformers=[('num_scaler',\n",
       "                                                  StandardScaler(),\n",
       "                                                  ['annual_income', 'birthday',\n",
       "                                                   'days_employment',\n",
       "                                                   'family_size'])])),\n",
       "                ('model', SVC())])"
      ]
     },
     "execution_count": 13,
     "metadata": {},
     "output_type": "execute_result"
    }
   ],
   "source": [
    "steps = [('over', SMOTE()), \n",
    "         ('scaler', scaler),\n",
    "         ('model', SVC(kernel='rbf'))]\n",
    "pipeline = Pipeline(steps=steps)\n",
    "Pipeline(steps=steps)"
   ]
  },
  {
   "cell_type": "code",
   "execution_count": 14,
   "id": "ad1ae7e8",
   "metadata": {},
   "outputs": [
    {
     "name": "stdout",
     "output_type": "stream",
     "text": [
      "Mean ROC AUC: 0.650\n"
     ]
    }
   ],
   "source": [
    "cv = RepeatedStratifiedKFold(n_splits=5, n_repeats=2, random_state=1)\n",
    "scores = cross_val_score(pipeline, X, y, scoring='roc_auc', cv=cv, n_jobs=-1)\n",
    "print('Mean ROC AUC: %.3f' % np.mean(scores))"
   ]
  },
  {
   "cell_type": "markdown",
   "id": "ac6a16eb",
   "metadata": {},
   "source": [
    "**3. Random Forest**"
   ]
  },
  {
   "cell_type": "code",
   "execution_count": 16,
   "id": "8293100f",
   "metadata": {},
   "outputs": [
    {
     "data": {
      "text/html": [
       "<style>#sk-container-id-4 {color: black;background-color: white;}#sk-container-id-4 pre{padding: 0;}#sk-container-id-4 div.sk-toggleable {background-color: white;}#sk-container-id-4 label.sk-toggleable__label {cursor: pointer;display: block;width: 100%;margin-bottom: 0;padding: 0.3em;box-sizing: border-box;text-align: center;}#sk-container-id-4 label.sk-toggleable__label-arrow:before {content: \"▸\";float: left;margin-right: 0.25em;color: #696969;}#sk-container-id-4 label.sk-toggleable__label-arrow:hover:before {color: black;}#sk-container-id-4 div.sk-estimator:hover label.sk-toggleable__label-arrow:before {color: black;}#sk-container-id-4 div.sk-toggleable__content {max-height: 0;max-width: 0;overflow: hidden;text-align: left;background-color: #f0f8ff;}#sk-container-id-4 div.sk-toggleable__content pre {margin: 0.2em;color: black;border-radius: 0.25em;background-color: #f0f8ff;}#sk-container-id-4 input.sk-toggleable__control:checked~div.sk-toggleable__content {max-height: 200px;max-width: 100%;overflow: auto;}#sk-container-id-4 input.sk-toggleable__control:checked~label.sk-toggleable__label-arrow:before {content: \"▾\";}#sk-container-id-4 div.sk-estimator input.sk-toggleable__control:checked~label.sk-toggleable__label {background-color: #d4ebff;}#sk-container-id-4 div.sk-label input.sk-toggleable__control:checked~label.sk-toggleable__label {background-color: #d4ebff;}#sk-container-id-4 input.sk-hidden--visually {border: 0;clip: rect(1px 1px 1px 1px);clip: rect(1px, 1px, 1px, 1px);height: 1px;margin: -1px;overflow: hidden;padding: 0;position: absolute;width: 1px;}#sk-container-id-4 div.sk-estimator {font-family: monospace;background-color: #f0f8ff;border: 1px dotted black;border-radius: 0.25em;box-sizing: border-box;margin-bottom: 0.5em;}#sk-container-id-4 div.sk-estimator:hover {background-color: #d4ebff;}#sk-container-id-4 div.sk-parallel-item::after {content: \"\";width: 100%;border-bottom: 1px solid gray;flex-grow: 1;}#sk-container-id-4 div.sk-label:hover label.sk-toggleable__label {background-color: #d4ebff;}#sk-container-id-4 div.sk-serial::before {content: \"\";position: absolute;border-left: 1px solid gray;box-sizing: border-box;top: 0;bottom: 0;left: 50%;z-index: 0;}#sk-container-id-4 div.sk-serial {display: flex;flex-direction: column;align-items: center;background-color: white;padding-right: 0.2em;padding-left: 0.2em;position: relative;}#sk-container-id-4 div.sk-item {position: relative;z-index: 1;}#sk-container-id-4 div.sk-parallel {display: flex;align-items: stretch;justify-content: center;background-color: white;position: relative;}#sk-container-id-4 div.sk-item::before, #sk-container-id-4 div.sk-parallel-item::before {content: \"\";position: absolute;border-left: 1px solid gray;box-sizing: border-box;top: 0;bottom: 0;left: 50%;z-index: -1;}#sk-container-id-4 div.sk-parallel-item {display: flex;flex-direction: column;z-index: 1;position: relative;background-color: white;}#sk-container-id-4 div.sk-parallel-item:first-child::after {align-self: flex-end;width: 50%;}#sk-container-id-4 div.sk-parallel-item:last-child::after {align-self: flex-start;width: 50%;}#sk-container-id-4 div.sk-parallel-item:only-child::after {width: 0;}#sk-container-id-4 div.sk-dashed-wrapped {border: 1px dashed gray;margin: 0 0.4em 0.5em 0.4em;box-sizing: border-box;padding-bottom: 0.4em;background-color: white;}#sk-container-id-4 div.sk-label label {font-family: monospace;font-weight: bold;display: inline-block;line-height: 1.2em;}#sk-container-id-4 div.sk-label-container {text-align: center;}#sk-container-id-4 div.sk-container {/* jupyter's `normalize.less` sets `[hidden] { display: none; }` but bootstrap.min.css set `[hidden] { display: none !important; }` so we also need the `!important` here to be able to override the default hidden behavior on the sphinx rendered scikit-learn.org. See: https://github.com/scikit-learn/scikit-learn/issues/21755 */display: inline-block !important;position: relative;}#sk-container-id-4 div.sk-text-repr-fallback {display: none;}</style><div id=\"sk-container-id-4\" class=\"sk-top-container\"><div class=\"sk-text-repr-fallback\"><pre>Pipeline(steps=[(&#x27;over&#x27;, SMOTE()),\n",
       "                (&#x27;scaler&#x27;,\n",
       "                 ColumnTransformer(remainder=&#x27;passthrough&#x27;,\n",
       "                                   transformers=[(&#x27;num_scaler&#x27;,\n",
       "                                                  StandardScaler(),\n",
       "                                                  [&#x27;annual_income&#x27;, &#x27;birthday&#x27;,\n",
       "                                                   &#x27;days_employment&#x27;,\n",
       "                                                   &#x27;family_size&#x27;])])),\n",
       "                (&#x27;model&#x27;,\n",
       "                 RandomForestClassifier(min_samples_leaf=5,\n",
       "                                        min_samples_split=10))])</pre><b>In a Jupyter environment, please rerun this cell to show the HTML representation or trust the notebook. <br />On GitHub, the HTML representation is unable to render, please try loading this page with nbviewer.org.</b></div><div class=\"sk-container\" hidden><div class=\"sk-item sk-dashed-wrapped\"><div class=\"sk-label-container\"><div class=\"sk-label sk-toggleable\"><input class=\"sk-toggleable__control sk-hidden--visually\" id=\"sk-estimator-id-25\" type=\"checkbox\" ><label for=\"sk-estimator-id-25\" class=\"sk-toggleable__label sk-toggleable__label-arrow\">Pipeline</label><div class=\"sk-toggleable__content\"><pre>Pipeline(steps=[(&#x27;over&#x27;, SMOTE()),\n",
       "                (&#x27;scaler&#x27;,\n",
       "                 ColumnTransformer(remainder=&#x27;passthrough&#x27;,\n",
       "                                   transformers=[(&#x27;num_scaler&#x27;,\n",
       "                                                  StandardScaler(),\n",
       "                                                  [&#x27;annual_income&#x27;, &#x27;birthday&#x27;,\n",
       "                                                   &#x27;days_employment&#x27;,\n",
       "                                                   &#x27;family_size&#x27;])])),\n",
       "                (&#x27;model&#x27;,\n",
       "                 RandomForestClassifier(min_samples_leaf=5,\n",
       "                                        min_samples_split=10))])</pre></div></div></div><div class=\"sk-serial\"><div class=\"sk-item\"><div class=\"sk-estimator sk-toggleable\"><input class=\"sk-toggleable__control sk-hidden--visually\" id=\"sk-estimator-id-26\" type=\"checkbox\" ><label for=\"sk-estimator-id-26\" class=\"sk-toggleable__label sk-toggleable__label-arrow\">SMOTE</label><div class=\"sk-toggleable__content\"><pre>SMOTE()</pre></div></div></div><div class=\"sk-item sk-dashed-wrapped\"><div class=\"sk-label-container\"><div class=\"sk-label sk-toggleable\"><input class=\"sk-toggleable__control sk-hidden--visually\" id=\"sk-estimator-id-27\" type=\"checkbox\" ><label for=\"sk-estimator-id-27\" class=\"sk-toggleable__label sk-toggleable__label-arrow\">scaler: ColumnTransformer</label><div class=\"sk-toggleable__content\"><pre>ColumnTransformer(remainder=&#x27;passthrough&#x27;,\n",
       "                  transformers=[(&#x27;num_scaler&#x27;, StandardScaler(),\n",
       "                                 [&#x27;annual_income&#x27;, &#x27;birthday&#x27;,\n",
       "                                  &#x27;days_employment&#x27;, &#x27;family_size&#x27;])])</pre></div></div></div><div class=\"sk-parallel\"><div class=\"sk-parallel-item\"><div class=\"sk-item\"><div class=\"sk-label-container\"><div class=\"sk-label sk-toggleable\"><input class=\"sk-toggleable__control sk-hidden--visually\" id=\"sk-estimator-id-28\" type=\"checkbox\" ><label for=\"sk-estimator-id-28\" class=\"sk-toggleable__label sk-toggleable__label-arrow\">num_scaler</label><div class=\"sk-toggleable__content\"><pre>[&#x27;annual_income&#x27;, &#x27;birthday&#x27;, &#x27;days_employment&#x27;, &#x27;family_size&#x27;]</pre></div></div></div><div class=\"sk-serial\"><div class=\"sk-item\"><div class=\"sk-estimator sk-toggleable\"><input class=\"sk-toggleable__control sk-hidden--visually\" id=\"sk-estimator-id-29\" type=\"checkbox\" ><label for=\"sk-estimator-id-29\" class=\"sk-toggleable__label sk-toggleable__label-arrow\">StandardScaler</label><div class=\"sk-toggleable__content\"><pre>StandardScaler()</pre></div></div></div></div></div></div><div class=\"sk-parallel-item\"><div class=\"sk-item\"><div class=\"sk-label-container\"><div class=\"sk-label sk-toggleable\"><input class=\"sk-toggleable__control sk-hidden--visually\" id=\"sk-estimator-id-30\" type=\"checkbox\" ><label for=\"sk-estimator-id-30\" class=\"sk-toggleable__label sk-toggleable__label-arrow\">remainder</label><div class=\"sk-toggleable__content\"><pre></pre></div></div></div><div class=\"sk-serial\"><div class=\"sk-item\"><div class=\"sk-estimator sk-toggleable\"><input class=\"sk-toggleable__control sk-hidden--visually\" id=\"sk-estimator-id-31\" type=\"checkbox\" ><label for=\"sk-estimator-id-31\" class=\"sk-toggleable__label sk-toggleable__label-arrow\">passthrough</label><div class=\"sk-toggleable__content\"><pre>passthrough</pre></div></div></div></div></div></div></div></div><div class=\"sk-item\"><div class=\"sk-estimator sk-toggleable\"><input class=\"sk-toggleable__control sk-hidden--visually\" id=\"sk-estimator-id-32\" type=\"checkbox\" ><label for=\"sk-estimator-id-32\" class=\"sk-toggleable__label sk-toggleable__label-arrow\">RandomForestClassifier</label><div class=\"sk-toggleable__content\"><pre>RandomForestClassifier(min_samples_leaf=5, min_samples_split=10)</pre></div></div></div></div></div></div></div>"
      ],
      "text/plain": [
       "Pipeline(steps=[('over', SMOTE()),\n",
       "                ('scaler',\n",
       "                 ColumnTransformer(remainder='passthrough',\n",
       "                                   transformers=[('num_scaler',\n",
       "                                                  StandardScaler(),\n",
       "                                                  ['annual_income', 'birthday',\n",
       "                                                   'days_employment',\n",
       "                                                   'family_size'])])),\n",
       "                ('model',\n",
       "                 RandomForestClassifier(min_samples_leaf=5,\n",
       "                                        min_samples_split=10))])"
      ]
     },
     "execution_count": 16,
     "metadata": {},
     "output_type": "execute_result"
    }
   ],
   "source": [
    "steps = [('over', SMOTE()), \n",
    "         ('scaler', scaler),\n",
    "         ('model', RandomForestClassifier(min_samples_split=10, min_samples_leaf=5))]\n",
    "pipeline = Pipeline(steps=steps)\n",
    "Pipeline(steps=steps)"
   ]
  },
  {
   "cell_type": "code",
   "execution_count": 17,
   "id": "00d87bca",
   "metadata": {},
   "outputs": [
    {
     "name": "stdout",
     "output_type": "stream",
     "text": [
      "Mean ROC AUC: 0.762\n"
     ]
    }
   ],
   "source": [
    "cv = RepeatedStratifiedKFold(n_splits=5, n_repeats=2, random_state=1)\n",
    "scores = cross_val_score(pipeline, X, y, scoring='roc_auc', cv=cv, n_jobs=-1)\n",
    "print('Mean ROC AUC: %.3f' % np.mean(scores))"
   ]
  },
  {
   "cell_type": "markdown",
   "id": "a3959bd3",
   "metadata": {},
   "source": [
    "**4. XGBoost**"
   ]
  },
  {
   "cell_type": "code",
   "execution_count": 18,
   "id": "4e15cc0f",
   "metadata": {},
   "outputs": [
    {
     "data": {
      "text/html": [
       "<style>#sk-container-id-5 {color: black;background-color: white;}#sk-container-id-5 pre{padding: 0;}#sk-container-id-5 div.sk-toggleable {background-color: white;}#sk-container-id-5 label.sk-toggleable__label {cursor: pointer;display: block;width: 100%;margin-bottom: 0;padding: 0.3em;box-sizing: border-box;text-align: center;}#sk-container-id-5 label.sk-toggleable__label-arrow:before {content: \"▸\";float: left;margin-right: 0.25em;color: #696969;}#sk-container-id-5 label.sk-toggleable__label-arrow:hover:before {color: black;}#sk-container-id-5 div.sk-estimator:hover label.sk-toggleable__label-arrow:before {color: black;}#sk-container-id-5 div.sk-toggleable__content {max-height: 0;max-width: 0;overflow: hidden;text-align: left;background-color: #f0f8ff;}#sk-container-id-5 div.sk-toggleable__content pre {margin: 0.2em;color: black;border-radius: 0.25em;background-color: #f0f8ff;}#sk-container-id-5 input.sk-toggleable__control:checked~div.sk-toggleable__content {max-height: 200px;max-width: 100%;overflow: auto;}#sk-container-id-5 input.sk-toggleable__control:checked~label.sk-toggleable__label-arrow:before {content: \"▾\";}#sk-container-id-5 div.sk-estimator input.sk-toggleable__control:checked~label.sk-toggleable__label {background-color: #d4ebff;}#sk-container-id-5 div.sk-label input.sk-toggleable__control:checked~label.sk-toggleable__label {background-color: #d4ebff;}#sk-container-id-5 input.sk-hidden--visually {border: 0;clip: rect(1px 1px 1px 1px);clip: rect(1px, 1px, 1px, 1px);height: 1px;margin: -1px;overflow: hidden;padding: 0;position: absolute;width: 1px;}#sk-container-id-5 div.sk-estimator {font-family: monospace;background-color: #f0f8ff;border: 1px dotted black;border-radius: 0.25em;box-sizing: border-box;margin-bottom: 0.5em;}#sk-container-id-5 div.sk-estimator:hover {background-color: #d4ebff;}#sk-container-id-5 div.sk-parallel-item::after {content: \"\";width: 100%;border-bottom: 1px solid gray;flex-grow: 1;}#sk-container-id-5 div.sk-label:hover label.sk-toggleable__label {background-color: #d4ebff;}#sk-container-id-5 div.sk-serial::before {content: \"\";position: absolute;border-left: 1px solid gray;box-sizing: border-box;top: 0;bottom: 0;left: 50%;z-index: 0;}#sk-container-id-5 div.sk-serial {display: flex;flex-direction: column;align-items: center;background-color: white;padding-right: 0.2em;padding-left: 0.2em;position: relative;}#sk-container-id-5 div.sk-item {position: relative;z-index: 1;}#sk-container-id-5 div.sk-parallel {display: flex;align-items: stretch;justify-content: center;background-color: white;position: relative;}#sk-container-id-5 div.sk-item::before, #sk-container-id-5 div.sk-parallel-item::before {content: \"\";position: absolute;border-left: 1px solid gray;box-sizing: border-box;top: 0;bottom: 0;left: 50%;z-index: -1;}#sk-container-id-5 div.sk-parallel-item {display: flex;flex-direction: column;z-index: 1;position: relative;background-color: white;}#sk-container-id-5 div.sk-parallel-item:first-child::after {align-self: flex-end;width: 50%;}#sk-container-id-5 div.sk-parallel-item:last-child::after {align-self: flex-start;width: 50%;}#sk-container-id-5 div.sk-parallel-item:only-child::after {width: 0;}#sk-container-id-5 div.sk-dashed-wrapped {border: 1px dashed gray;margin: 0 0.4em 0.5em 0.4em;box-sizing: border-box;padding-bottom: 0.4em;background-color: white;}#sk-container-id-5 div.sk-label label {font-family: monospace;font-weight: bold;display: inline-block;line-height: 1.2em;}#sk-container-id-5 div.sk-label-container {text-align: center;}#sk-container-id-5 div.sk-container {/* jupyter's `normalize.less` sets `[hidden] { display: none; }` but bootstrap.min.css set `[hidden] { display: none !important; }` so we also need the `!important` here to be able to override the default hidden behavior on the sphinx rendered scikit-learn.org. See: https://github.com/scikit-learn/scikit-learn/issues/21755 */display: inline-block !important;position: relative;}#sk-container-id-5 div.sk-text-repr-fallback {display: none;}</style><div id=\"sk-container-id-5\" class=\"sk-top-container\"><div class=\"sk-text-repr-fallback\"><pre>Pipeline(steps=[(&#x27;over&#x27;, SMOTE()),\n",
       "                (&#x27;scaler&#x27;,\n",
       "                 ColumnTransformer(remainder=&#x27;passthrough&#x27;,\n",
       "                                   transformers=[(&#x27;num_scaler&#x27;,\n",
       "                                                  StandardScaler(),\n",
       "                                                  [&#x27;annual_income&#x27;, &#x27;birthday&#x27;,\n",
       "                                                   &#x27;days_employment&#x27;,\n",
       "                                                   &#x27;family_size&#x27;])])),\n",
       "                (&#x27;model&#x27;,\n",
       "                 XGBClassifier(base_score=None, booster=None, callbacks=None,\n",
       "                               colsample_bylevel=None, colsample_bynode=None,\n",
       "                               colsample_bytree=None,\n",
       "                               early_stopping_rounds...\n",
       "                               feature_types=None, gamma=None, gpu_id=None,\n",
       "                               grow_policy=None, importance_type=None,\n",
       "                               interaction_constraints=None, learning_rate=1,\n",
       "                               max_bin=None, max_cat_threshold=None,\n",
       "                               max_cat_to_onehot=None, max_delta_step=None,\n",
       "                               max_depth=None, max_leaves=None,\n",
       "                               min_child_weight=None, missing=nan,\n",
       "                               monotone_constraints=None, n_estimators=100,\n",
       "                               n_jobs=None, num_parallel_tree=None,\n",
       "                               predictor=None, random_state=None, ...))])</pre><b>In a Jupyter environment, please rerun this cell to show the HTML representation or trust the notebook. <br />On GitHub, the HTML representation is unable to render, please try loading this page with nbviewer.org.</b></div><div class=\"sk-container\" hidden><div class=\"sk-item sk-dashed-wrapped\"><div class=\"sk-label-container\"><div class=\"sk-label sk-toggleable\"><input class=\"sk-toggleable__control sk-hidden--visually\" id=\"sk-estimator-id-33\" type=\"checkbox\" ><label for=\"sk-estimator-id-33\" class=\"sk-toggleable__label sk-toggleable__label-arrow\">Pipeline</label><div class=\"sk-toggleable__content\"><pre>Pipeline(steps=[(&#x27;over&#x27;, SMOTE()),\n",
       "                (&#x27;scaler&#x27;,\n",
       "                 ColumnTransformer(remainder=&#x27;passthrough&#x27;,\n",
       "                                   transformers=[(&#x27;num_scaler&#x27;,\n",
       "                                                  StandardScaler(),\n",
       "                                                  [&#x27;annual_income&#x27;, &#x27;birthday&#x27;,\n",
       "                                                   &#x27;days_employment&#x27;,\n",
       "                                                   &#x27;family_size&#x27;])])),\n",
       "                (&#x27;model&#x27;,\n",
       "                 XGBClassifier(base_score=None, booster=None, callbacks=None,\n",
       "                               colsample_bylevel=None, colsample_bynode=None,\n",
       "                               colsample_bytree=None,\n",
       "                               early_stopping_rounds...\n",
       "                               feature_types=None, gamma=None, gpu_id=None,\n",
       "                               grow_policy=None, importance_type=None,\n",
       "                               interaction_constraints=None, learning_rate=1,\n",
       "                               max_bin=None, max_cat_threshold=None,\n",
       "                               max_cat_to_onehot=None, max_delta_step=None,\n",
       "                               max_depth=None, max_leaves=None,\n",
       "                               min_child_weight=None, missing=nan,\n",
       "                               monotone_constraints=None, n_estimators=100,\n",
       "                               n_jobs=None, num_parallel_tree=None,\n",
       "                               predictor=None, random_state=None, ...))])</pre></div></div></div><div class=\"sk-serial\"><div class=\"sk-item\"><div class=\"sk-estimator sk-toggleable\"><input class=\"sk-toggleable__control sk-hidden--visually\" id=\"sk-estimator-id-34\" type=\"checkbox\" ><label for=\"sk-estimator-id-34\" class=\"sk-toggleable__label sk-toggleable__label-arrow\">SMOTE</label><div class=\"sk-toggleable__content\"><pre>SMOTE()</pre></div></div></div><div class=\"sk-item sk-dashed-wrapped\"><div class=\"sk-label-container\"><div class=\"sk-label sk-toggleable\"><input class=\"sk-toggleable__control sk-hidden--visually\" id=\"sk-estimator-id-35\" type=\"checkbox\" ><label for=\"sk-estimator-id-35\" class=\"sk-toggleable__label sk-toggleable__label-arrow\">scaler: ColumnTransformer</label><div class=\"sk-toggleable__content\"><pre>ColumnTransformer(remainder=&#x27;passthrough&#x27;,\n",
       "                  transformers=[(&#x27;num_scaler&#x27;, StandardScaler(),\n",
       "                                 [&#x27;annual_income&#x27;, &#x27;birthday&#x27;,\n",
       "                                  &#x27;days_employment&#x27;, &#x27;family_size&#x27;])])</pre></div></div></div><div class=\"sk-parallel\"><div class=\"sk-parallel-item\"><div class=\"sk-item\"><div class=\"sk-label-container\"><div class=\"sk-label sk-toggleable\"><input class=\"sk-toggleable__control sk-hidden--visually\" id=\"sk-estimator-id-36\" type=\"checkbox\" ><label for=\"sk-estimator-id-36\" class=\"sk-toggleable__label sk-toggleable__label-arrow\">num_scaler</label><div class=\"sk-toggleable__content\"><pre>[&#x27;annual_income&#x27;, &#x27;birthday&#x27;, &#x27;days_employment&#x27;, &#x27;family_size&#x27;]</pre></div></div></div><div class=\"sk-serial\"><div class=\"sk-item\"><div class=\"sk-estimator sk-toggleable\"><input class=\"sk-toggleable__control sk-hidden--visually\" id=\"sk-estimator-id-37\" type=\"checkbox\" ><label for=\"sk-estimator-id-37\" class=\"sk-toggleable__label sk-toggleable__label-arrow\">StandardScaler</label><div class=\"sk-toggleable__content\"><pre>StandardScaler()</pre></div></div></div></div></div></div><div class=\"sk-parallel-item\"><div class=\"sk-item\"><div class=\"sk-label-container\"><div class=\"sk-label sk-toggleable\"><input class=\"sk-toggleable__control sk-hidden--visually\" id=\"sk-estimator-id-38\" type=\"checkbox\" ><label for=\"sk-estimator-id-38\" class=\"sk-toggleable__label sk-toggleable__label-arrow\">remainder</label><div class=\"sk-toggleable__content\"><pre></pre></div></div></div><div class=\"sk-serial\"><div class=\"sk-item\"><div class=\"sk-estimator sk-toggleable\"><input class=\"sk-toggleable__control sk-hidden--visually\" id=\"sk-estimator-id-39\" type=\"checkbox\" ><label for=\"sk-estimator-id-39\" class=\"sk-toggleable__label sk-toggleable__label-arrow\">passthrough</label><div class=\"sk-toggleable__content\"><pre>passthrough</pre></div></div></div></div></div></div></div></div><div class=\"sk-item\"><div class=\"sk-estimator sk-toggleable\"><input class=\"sk-toggleable__control sk-hidden--visually\" id=\"sk-estimator-id-40\" type=\"checkbox\" ><label for=\"sk-estimator-id-40\" class=\"sk-toggleable__label sk-toggleable__label-arrow\">XGBClassifier</label><div class=\"sk-toggleable__content\"><pre>XGBClassifier(base_score=None, booster=None, callbacks=None,\n",
       "              colsample_bylevel=None, colsample_bynode=None,\n",
       "              colsample_bytree=None, early_stopping_rounds=None,\n",
       "              enable_categorical=False, eval_metric=None, feature_types=None,\n",
       "              gamma=None, gpu_id=None, grow_policy=None, importance_type=None,\n",
       "              interaction_constraints=None, learning_rate=1, max_bin=None,\n",
       "              max_cat_threshold=None, max_cat_to_onehot=None,\n",
       "              max_delta_step=None, max_depth=None, max_leaves=None,\n",
       "              min_child_weight=None, missing=nan, monotone_constraints=None,\n",
       "              n_estimators=100, n_jobs=None, num_parallel_tree=None,\n",
       "              predictor=None, random_state=None, ...)</pre></div></div></div></div></div></div></div>"
      ],
      "text/plain": [
       "Pipeline(steps=[('over', SMOTE()),\n",
       "                ('scaler',\n",
       "                 ColumnTransformer(remainder='passthrough',\n",
       "                                   transformers=[('num_scaler',\n",
       "                                                  StandardScaler(),\n",
       "                                                  ['annual_income', 'birthday',\n",
       "                                                   'days_employment',\n",
       "                                                   'family_size'])])),\n",
       "                ('model',\n",
       "                 XGBClassifier(base_score=None, booster=None, callbacks=None,\n",
       "                               colsample_bylevel=None, colsample_bynode=None,\n",
       "                               colsample_bytree=None,\n",
       "                               early_stopping_rounds...\n",
       "                               feature_types=None, gamma=None, gpu_id=None,\n",
       "                               grow_policy=None, importance_type=None,\n",
       "                               interaction_constraints=None, learning_rate=1,\n",
       "                               max_bin=None, max_cat_threshold=None,\n",
       "                               max_cat_to_onehot=None, max_delta_step=None,\n",
       "                               max_depth=None, max_leaves=None,\n",
       "                               min_child_weight=None, missing=nan,\n",
       "                               monotone_constraints=None, n_estimators=100,\n",
       "                               n_jobs=None, num_parallel_tree=None,\n",
       "                               predictor=None, random_state=None, ...))])"
      ]
     },
     "execution_count": 18,
     "metadata": {},
     "output_type": "execute_result"
    }
   ],
   "source": [
    "steps = [('over', SMOTE()), \n",
    "         ('scaler', scaler),\n",
    "         ('model', XGBClassifier(learning_rate=1, objective='binary:logistic'))]\n",
    "pipeline = Pipeline(steps=steps)\n",
    "Pipeline(steps=steps)"
   ]
  },
  {
   "cell_type": "code",
   "execution_count": 19,
   "id": "68aebc11",
   "metadata": {},
   "outputs": [
    {
     "name": "stdout",
     "output_type": "stream",
     "text": [
      "Mean ROC AUC: 0.761\n"
     ]
    }
   ],
   "source": [
    "cv = RepeatedStratifiedKFold(n_splits=5, n_repeats=2, random_state=1)\n",
    "scores = cross_val_score(pipeline, X, y, scoring='roc_auc', cv=cv, n_jobs=-1)\n",
    "print('Mean ROC AUC: %.3f' % np.mean(scores))"
   ]
  },
  {
   "cell_type": "markdown",
   "id": "d626e805",
   "metadata": {},
   "source": [
    "# Tune model & Evaluate model using cross validation\n",
    "- Compare with Logistic Regression model"
   ]
  },
  {
   "cell_type": "code",
   "execution_count": 20,
   "id": "f416c11f",
   "metadata": {},
   "outputs": [],
   "source": [
    "X_train, X_test, y_train, y_test = train_test_split(X, y, test_size=0.25, random_state=1, stratify=y)"
   ]
  },
  {
   "cell_type": "markdown",
   "id": "06f80a02-adcd-4d05-80f1-3c72a44c742a",
   "metadata": {},
   "source": [
    "**Logistic Regression**"
   ]
  },
  {
   "cell_type": "code",
   "execution_count": 21,
   "id": "a2a6a9a2-df1c-4434-bd3d-c1253c1845fb",
   "metadata": {},
   "outputs": [
    {
     "name": "stdout",
     "output_type": "stream",
     "text": [
      "Tunning results of Logistic Regression:  {'model__C': 0.8600000000000001}\n",
      "Tunning results of Logistic Regression:  0.04121233034276513\n"
     ]
    }
   ],
   "source": [
    "steps = [('over', SMOTE()), \n",
    "         ('scaler', scaler),\n",
    "         ('model', LogisticRegression(tol=0.001, max_iter=10000, n_jobs=-1, random_state=1,\n",
    "                                      solver='sag'))]\n",
    "param = {#'model__solver': ['lbfgs', 'sag', 'saga', 'newton-cg'], #sag\n",
    "         'model__C': np.arange(0.01, 1, 0.05)  # 0.56  \n",
    "        }\n",
    "\n",
    "scorer = make_scorer(precision_score)\n",
    "model_tuned = GridSearchCV(\n",
    "    estimator=Pipeline(steps),\n",
    "    param_grid=param,\n",
    "    scoring=scorer,\n",
    "    n_jobs = -1,\n",
    "    cv=3).fit(X_train, y_train)\n",
    "\n",
    "print('Tunning results of Logistic Regression: ', model_tuned.best_params_)\n",
    "print('Tunning results of Logistic Regression: ', model_tuned.best_score_)"
   ]
  },
  {
   "cell_type": "markdown",
   "id": "31038583",
   "metadata": {},
   "source": [
    "**XGBoost**"
   ]
  },
  {
   "cell_type": "code",
   "execution_count": null,
   "id": "bac32581",
   "metadata": {},
   "outputs": [],
   "source": [
    "steps = [('over', SMOTE()), \n",
    "         ('scaler', scaler),\n",
    "         ('model', XGBClassifier(objective='binary:logistic', \n",
    "                                 learning_rate=0.5, max_depth=8,\n",
    "                                 n_estimators=250, min_child_weight=4))]\n",
    "param = {#'model__learning_rate': [0.005, 0.05, 0.1, 0.5, 1],  # 0.5\n",
    "         #'model__gamma': [0, 0.5, 1, 1.5, 2],  # 0\n",
    "         #'model__max_depth': np.arange(3, 10),  # 8\n",
    "         #'model__n_estimators': [100, 200, 250, 300, 400], # 250\n",
    "         #'model__lambda': [1, 1.5, 2],\n",
    "         #'model__subsample': [1, 0.8],\n",
    "         'model__min_child_weight': np.arange(1, 10)  # 4\n",
    "        }\n",
    "\n",
    "scorer = make_scorer(precision_score)\n",
    "model_tuned = GridSearchCV(\n",
    "    estimator=Pipeline(steps),\n",
    "    param_grid=param,\n",
    "    scoring=scorer,\n",
    "    n_jobs = -1,\n",
    "    cv=3).fit(X_train, y_train)\n",
    "\n",
    "print('Tunning results: ', model_tuned.best_params_)"
   ]
  },
  {
   "cell_type": "code",
   "execution_count": null,
   "id": "f4c57f20",
   "metadata": {},
   "outputs": [],
   "source": [
    "y_train_pred = model_tuned.best_estimator_.predict(X_train)\n",
    "y_test_pred = model_tuned.best_estimator_.predict(X_test)\n",
    "print('Classification metrics of Train data: \\n', classification_report(y_train, y_train_pred))\n",
    "print('Classification metrics of Test data: \\n', classification_report(y_test, y_test_pred))\n",
    "print('---------------------------------------')\n",
    "print('Confusion matrix of Train data: \\n', confusion_matrix(y_train, y_train_pred, labels=[1, 0]))\n",
    "print('Confusion matrix of Test data: \\n', confusion_matrix(y_test, y_test_pred, labels=[1, 0]))"
   ]
  },
  {
   "cell_type": "markdown",
   "id": "32aa5262-eef8-4a09-b10e-e93478946352",
   "metadata": {},
   "source": [
    "**Model evaluation**  \n",
    "Compare XGBoost and Logistic Regression by Cross Validation"
   ]
  },
  {
   "cell_type": "code",
   "execution_count": 22,
   "id": "b15e4eb7-9e41-4d01-956e-18b9a3664d6b",
   "metadata": {},
   "outputs": [],
   "source": [
    "X_train, X_test, y_train, y_test = train_test_split(X, y, test_size=0.25, random_state=1) #, stratify=y)\n",
    "\n",
    "steps = [('over', SMOTE()), \n",
    "         ('scaler', scaler),\n",
    "         ('model', XGBClassifier(objective='binary:logistic', \n",
    "                                 learning_rate=0.5, max_depth=8,\n",
    "                                 n_estimators=250, min_child_weight=4))]\n",
    "\n",
    "xgb_cv = cross_validate(Pipeline(steps), X_train, y_train, cv=10, \n",
    "                        scoring=('roc_auc'),\n",
    "                        return_train_score=True)"
   ]
  },
  {
   "cell_type": "code",
   "execution_count": 23,
   "id": "26003af2-88fb-41cd-bcd9-7624b3622a50",
   "metadata": {},
   "outputs": [
    {
     "data": {
      "text/plain": [
       "dict_keys(['fit_time', 'score_time', 'test_score', 'train_score'])"
      ]
     },
     "execution_count": 23,
     "metadata": {},
     "output_type": "execute_result"
    }
   ],
   "source": [
    "xgb_cv.keys()"
   ]
  },
  {
   "cell_type": "code",
   "execution_count": 24,
   "id": "c77149d8-8e61-433e-a067-338808e78b84",
   "metadata": {},
   "outputs": [
    {
     "data": {
      "text/plain": [
       "array([0.99546245, 0.99493603, 0.99520852, 0.99505678, 0.99508426,\n",
       "       0.99471564, 0.99501378, 0.99489254, 0.99501757, 0.99489457])"
      ]
     },
     "execution_count": 24,
     "metadata": {},
     "output_type": "execute_result"
    }
   ],
   "source": [
    "xgb_cv['train_score']"
   ]
  },
  {
   "cell_type": "code",
   "execution_count": 27,
   "id": "8ec0b4b2-9611-429a-a99e-242ee0f36ba7",
   "metadata": {},
   "outputs": [
    {
     "data": {
      "text/plain": [
       "Text(0.5, 1.0, 'Cross validation scores of XGBoost')"
      ]
     },
     "execution_count": 27,
     "metadata": {},
     "output_type": "execute_result"
    },
    {
     "data": {
      "image/png": "[encoded data removed]",
      "text/plain": [
       "<Figure size 640x480 with 1 Axes>"
      ]
     },
     "metadata": {},
     "output_type": "display_data"
    }
   ],
   "source": [
    "plt.bar(np.arange(1, 11)-0.15,\n",
    "        xgb_cv['train_score'],\n",
    "        width=0.3, label='validation_train')\n",
    "plt.bar(np.arange(1, 11)+0.15,\n",
    "        xgb_cv['test_score'],\n",
    "        width=0.3, label='validation_test')\n",
    "plt.xlabel('Number of folds')\n",
    "plt.ylabel('roc_auc score')\n",
    "plt.legend()\n",
    "plt.title('Cross validation scores of XGBoost')"
   ]
  },
  {
   "cell_type": "code",
   "execution_count": 28,
   "id": "8f006b45-0255-4799-8dcc-f8546375c7ba",
   "metadata": {},
   "outputs": [],
   "source": [
    "# Logistic regression\n",
    "X_train, X_test, y_train, y_test = train_test_split(X, y, test_size=0.25, random_state=1) #, stratify=y)\n",
    "\n",
    "steps = [('over', SMOTE()), \n",
    "         ('scaler', scaler),\n",
    "         ('model', LogisticRegression(tol=0.001, max_iter=10000, n_jobs=-1, random_state=1,\n",
    "                                      solver='sag', C=0.56))]\n",
    "\n",
    "lr_cv = cross_validate(Pipeline(steps), X_train, y_train, cv=10, \n",
    "                       scoring=('roc_auc'),\n",
    "                       return_train_score=True)"
   ]
  },
  {
   "cell_type": "code",
   "execution_count": 29,
   "id": "5700e4ed-84fd-430b-bcc2-f30a65a7447e",
   "metadata": {},
   "outputs": [
    {
     "data": {
      "image/png": "[encoded data removed]",
      "text/plain": [
       "<Figure size 640x480 with 1 Axes>"
      ]
     },
     "metadata": {},
     "output_type": "display_data"
    }
   ],
   "source": [
    "plt.bar(np.arange(1, 11)-0.15,\n",
    "        lr_cv['train_score'],\n",
    "        width=0.3, label='validation_train')\n",
    "plt.bar(np.arange(1, 11)+0.15,\n",
    "        lr_cv['test_score'],\n",
    "        width=0.3, label='validation_test')\n",
    "plt.xlabel('Number of folds')\n",
    "plt.ylabel('roc_auc score')\n",
    "plt.legend()\n",
    "plt.title('Cross validation scores of Logistic Regression')"
   ]
  },
  {
   "cell_type": "markdown",
   "id": "f5e4464e",
   "metadata": {},
   "source": [
    "**Test the tuned model**"
   ]
  },
  {
   "cell_type": "code",
   "execution_count": 31,
   "id": "12e098dd",
   "metadata": {},
   "outputs": [
    {
     "name": "stdout",
     "output_type": "stream",
     "text": [
      "Classification metrics of Train data: \n",
      "               precision    recall  f1-score   support\n",
      "\n",
      "         0.0       0.99      0.99      0.99     25123\n",
      "         1.0       0.68      0.72      0.70       472\n",
      "\n",
      "    accuracy                           0.99     25595\n",
      "   macro avg       0.84      0.86      0.85     25595\n",
      "weighted avg       0.99      0.99      0.99     25595\n",
      "\n",
      "Classification metrics of Test data: \n",
      "               precision    recall  f1-score   support\n",
      "\n",
      "         0.0       0.99      0.99      0.99      8389\n",
      "         1.0       0.40      0.32      0.36       143\n",
      "\n",
      "    accuracy                           0.98      8532\n",
      "   macro avg       0.69      0.66      0.67      8532\n",
      "weighted avg       0.98      0.98      0.98      8532\n",
      "\n"
     ]
    }
   ],
   "source": [
    "# XGBoost\n",
    "X_train, X_test, y_train, y_test = train_test_split(X, y, test_size=0.25, random_state=1)#, stratify=y)\n",
    "\n",
    "steps = [('over', SMOTE()), \n",
    "         ('scaler', scaler),\n",
    "         ('model', XGBClassifier(objective='binary:logistic', random_state=1,\n",
    "                                 learning_rate=0.5, max_depth=8,\n",
    "                                 n_estimators=250, min_child_weight=4))]\n",
    "'''\n",
    "\n",
    "steps = [('over', SMOTE()), \n",
    "         ('scaler', scaler),\n",
    "         ('model', XGBClassifier(objective='binary:logistic', \n",
    "                                 learning_rate=0.02, max_depth=12,\n",
    "                                 n_estimators=250, min_child_weight=8,\n",
    "                                 subsample=0.8))]\n",
    "'''\n",
    "\n",
    "model = Pipeline(steps).fit(X_train, y_train)\n",
    "y_train_pred = model.predict(X_train)\n",
    "y_test_pred = model.predict(X_test)\n",
    "print('Classification metrics of Train data: \\n', classification_report(y_train, y_train_pred))\n",
    "print('Classification metrics of Test data: \\n', classification_report(y_test, y_test_pred))\n",
    "#print('---------------------------------------')\n",
    "#print('Confusion matrix of Train data: \\n', confusion_matrix(y_train, y_train_pred, labels=[1, 0]))\n",
    "#print('Confusion matrix of Test data: \\n', confusion_matrix(y_test, y_test_pred, labels=[1, 0]))"
   ]
  },
  {
   "cell_type": "code",
   "execution_count": 32,
   "id": "6f59db99",
   "metadata": {},
   "outputs": [
    {
     "data": {
      "text/plain": [
       "Text(0.5, 1.0, 'Normalized Confusion Matrix of XGBoost on Test Dataset')"
      ]
     },
     "execution_count": 32,
     "metadata": {},
     "output_type": "execute_result"
    },
    {
     "data": {
      "image/png": "[encoded data removed]",
      "text/plain": [
       "<Figure size 640x480 with 1 Axes>"
      ]
     },
     "metadata": {},
     "output_type": "display_data"
    }
   ],
   "source": [
    "ConfusionMatrixDisplay.from_estimator(model, X_test, y_test,\n",
    "                                      labels = [1, 0], cmap=plt.cm.Paired,\n",
    "                                      colorbar=False, normalize='true')\n",
    "plt.title('Normalized Confusion Matrix of XGBoost on Test Dataset')\n",
    "#ConfusionMatrixDisplay(confusion_matrix(y_train, y_train_pred)).plot()"
   ]
  },
  {
   "cell_type": "code",
   "execution_count": 34,
   "id": "d6fa8c5d-2569-45c6-b889-60a292968979",
   "metadata": {},
   "outputs": [
    {
     "data": {
      "text/plain": [
       "Text(0.5, 1.0, 'Normalized Confusion Matrix of Logistic Regression on Test Dataset')"
      ]
     },
     "execution_count": 34,
     "metadata": {},
     "output_type": "execute_result"
    },
    {
     "data": {
      "image/png": "[encoded data removed]",
      "text/plain": [
       "<Figure size 640x480 with 1 Axes>"
      ]
     },
     "metadata": {},
     "output_type": "display_data"
    }
   ],
   "source": [
    "# Logistic Regression\n",
    "X_train, X_test, y_train, y_test = train_test_split(X, y, test_size=0.25, random_state=1)#, stratify=y)\n",
    "\n",
    "steps = [('over', SMOTE()), \n",
    "         ('scaler', scaler),\n",
    "         ('model', LogisticRegression(tol=0.001, max_iter=10000, n_jobs=-1, random_state=1,\n",
    "                                      solver='sag', C=0.56))]\n",
    "model = Pipeline(steps).fit(X_train, y_train)\n",
    "\n",
    "ConfusionMatrixDisplay.from_estimator(model, X_test, y_test,\n",
    "                                      labels = [1, 0],\n",
    "                                      colorbar=False, cmap=plt.cm.flag,\n",
    "                                      normalize='true')\n",
    "plt.title('Normalized Confusion Matrix of Logistic Regression on Test Dataset')"
   ]
  },
  {
   "cell_type": "markdown",
   "id": "6bf096bb",
   "metadata": {},
   "source": [
    "**Random Forest**"
   ]
  },
  {
   "cell_type": "code",
   "execution_count": null,
   "id": "a33e8563",
   "metadata": {},
   "outputs": [],
   "source": [
    "steps = [('over', SMOTE()), \n",
    "         ('scaler', scaler),\n",
    "         ('model', RandomForestClassifier())] #min_samples_split=15, min_samples_leaf=5)\n",
    "\n",
    "param = {#'model__min_samples_split': np.arange(3, 20), # 15\n",
    "         'model__min_samples_leaf': np.arange(5, 30), # 5\n",
    "         'model__max_depth': np.arange(2, 10),  \n",
    "         #'model__n_estimators': [100, 200, 250, 300, 400] \n",
    "        }\n",
    "\n",
    "scorer = make_scorer(precision_score)\n",
    "model_tuned = GridSearchCV(\n",
    "    estimator=Pipeline(steps),\n",
    "    param_grid=param,\n",
    "    scoring=scorer,\n",
    "    n_jobs = -1,\n",
    "    cv=3).fit(X_train, y_train)\n",
    "\n",
    "print('Tunning results: ', model_tuned.best_params_)"
   ]
  },
  {
   "cell_type": "code",
   "execution_count": null,
   "id": "2cd4571f",
   "metadata": {},
   "outputs": [],
   "source": [
    "y_train_pred = model_tuned.best_estimator_.predict(X_train)\n",
    "y_test_pred = model_tuned.best_estimator_.predict(X_test)\n",
    "\n",
    "print('Classification metrics of Train data: \\n', classification_report(y_train, y_train_pred))\n",
    "print('Classification metrics of Test data: \\n', classification_report(y_test, y_test_pred))\n",
    "print('---------------------------------------')\n",
    "print('Confusion matrix of Train data: \\n', confusion_matrix(y_train, y_train_pred, labels=[1, 0]))\n",
    "print('Confusion matrix of Test data: \\n', confusion_matrix(y_test, y_test_pred, labels=[1, 0]))"
   ]
  }
 ],
 "metadata": {
  "kernelspec": {
   "display_name": "Python 3",
   "language": "python",
   "name": "python3"
  },
  "language_info": {
   "codemirror_mode": {
    "name": "ipython",
    "version": 3
   },
   "file_extension": ".py",
   "mimetype": "text/x-python",
   "name": "python",
   "nbconvert_exporter": "python",
   "pygments_lexer": "ipython3",
   "version": "3.10.8"
  }
 },
 "nbformat": 4,
 "nbformat_minor": 5
}
